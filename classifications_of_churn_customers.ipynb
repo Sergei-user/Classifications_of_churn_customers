{
  "cells": [
    {
      "cell_type": "markdown",
      "metadata": {
        "id": "_JPkpafooKR-"
      },
      "source": [
        "## Что входит в работу\n",
        "\n",
        "*  Загрузка и предобработка данных.\n",
        "*  Применение и настройка линейных моделей.\n",
        "*  Применение и настройка решающего дерева.\n",
        "*  Сравнение моделей.\n",
        "*  Оценка важности признаков."
      ]
    },
    {
      "cell_type": "markdown",
      "metadata": {
        "id": "0-tRk6fdxmB-"
      },
      "source": [
        "## Цель задачи\n",
        "Задача классификации оттоковых клиентов телекома: для каждого клиента необходимо определить, перестанет он пользоваться услугами оператора в ближайшее время или нет."
      ]
    },
    {
      "cell_type": "code",
      "execution_count": 1,
      "metadata": {
        "colab": {
          "base_uri": "https://localhost:8080/",
          "height": 305
        },
        "id": "DIjF1xlpwOMd",
        "outputId": "98c7d62d-0849-4702-8d98-1406e20f59b7"
      },
      "outputs": [
        {
          "data": {
            "text/html": [
              "<div>\n",
              "<style scoped>\n",
              "    .dataframe tbody tr th:only-of-type {\n",
              "        vertical-align: middle;\n",
              "    }\n",
              "\n",
              "    .dataframe tbody tr th {\n",
              "        vertical-align: top;\n",
              "    }\n",
              "\n",
              "    .dataframe thead th {\n",
              "        text-align: right;\n",
              "    }\n",
              "</style>\n",
              "<table border=\"1\" class=\"dataframe\">\n",
              "  <thead>\n",
              "    <tr style=\"text-align: right;\">\n",
              "      <th></th>\n",
              "      <th>State</th>\n",
              "      <th>Account length</th>\n",
              "      <th>Area code</th>\n",
              "      <th>International plan</th>\n",
              "      <th>Voice mail plan</th>\n",
              "      <th>Number vmail messages</th>\n",
              "      <th>Total day minutes</th>\n",
              "      <th>Total day calls</th>\n",
              "      <th>Total day charge</th>\n",
              "      <th>Total eve minutes</th>\n",
              "      <th>Total eve calls</th>\n",
              "      <th>Total eve charge</th>\n",
              "      <th>Total night minutes</th>\n",
              "      <th>Total night calls</th>\n",
              "      <th>Total night charge</th>\n",
              "      <th>Total intl minutes</th>\n",
              "      <th>Total intl calls</th>\n",
              "      <th>Total intl charge</th>\n",
              "      <th>Customer service calls</th>\n",
              "      <th>Churn</th>\n",
              "    </tr>\n",
              "  </thead>\n",
              "  <tbody>\n",
              "    <tr>\n",
              "      <th>0</th>\n",
              "      <td>KS</td>\n",
              "      <td>128</td>\n",
              "      <td>415</td>\n",
              "      <td>No</td>\n",
              "      <td>Yes</td>\n",
              "      <td>25</td>\n",
              "      <td>265.1</td>\n",
              "      <td>110</td>\n",
              "      <td>45.07</td>\n",
              "      <td>197.4</td>\n",
              "      <td>99</td>\n",
              "      <td>16.78</td>\n",
              "      <td>244.7</td>\n",
              "      <td>91</td>\n",
              "      <td>11.01</td>\n",
              "      <td>10.0</td>\n",
              "      <td>3</td>\n",
              "      <td>2.70</td>\n",
              "      <td>1</td>\n",
              "      <td>False</td>\n",
              "    </tr>\n",
              "    <tr>\n",
              "      <th>1</th>\n",
              "      <td>OH</td>\n",
              "      <td>107</td>\n",
              "      <td>415</td>\n",
              "      <td>No</td>\n",
              "      <td>Yes</td>\n",
              "      <td>26</td>\n",
              "      <td>161.6</td>\n",
              "      <td>123</td>\n",
              "      <td>27.47</td>\n",
              "      <td>195.5</td>\n",
              "      <td>103</td>\n",
              "      <td>16.62</td>\n",
              "      <td>254.4</td>\n",
              "      <td>103</td>\n",
              "      <td>11.45</td>\n",
              "      <td>13.7</td>\n",
              "      <td>3</td>\n",
              "      <td>3.70</td>\n",
              "      <td>1</td>\n",
              "      <td>False</td>\n",
              "    </tr>\n",
              "    <tr>\n",
              "      <th>2</th>\n",
              "      <td>NJ</td>\n",
              "      <td>137</td>\n",
              "      <td>415</td>\n",
              "      <td>No</td>\n",
              "      <td>No</td>\n",
              "      <td>0</td>\n",
              "      <td>243.4</td>\n",
              "      <td>114</td>\n",
              "      <td>41.38</td>\n",
              "      <td>121.2</td>\n",
              "      <td>110</td>\n",
              "      <td>10.30</td>\n",
              "      <td>162.6</td>\n",
              "      <td>104</td>\n",
              "      <td>7.32</td>\n",
              "      <td>12.2</td>\n",
              "      <td>5</td>\n",
              "      <td>3.29</td>\n",
              "      <td>0</td>\n",
              "      <td>False</td>\n",
              "    </tr>\n",
              "    <tr>\n",
              "      <th>3</th>\n",
              "      <td>OH</td>\n",
              "      <td>84</td>\n",
              "      <td>408</td>\n",
              "      <td>Yes</td>\n",
              "      <td>No</td>\n",
              "      <td>0</td>\n",
              "      <td>299.4</td>\n",
              "      <td>71</td>\n",
              "      <td>50.90</td>\n",
              "      <td>61.9</td>\n",
              "      <td>88</td>\n",
              "      <td>5.26</td>\n",
              "      <td>196.9</td>\n",
              "      <td>89</td>\n",
              "      <td>8.86</td>\n",
              "      <td>6.6</td>\n",
              "      <td>7</td>\n",
              "      <td>1.78</td>\n",
              "      <td>2</td>\n",
              "      <td>False</td>\n",
              "    </tr>\n",
              "    <tr>\n",
              "      <th>4</th>\n",
              "      <td>OK</td>\n",
              "      <td>75</td>\n",
              "      <td>415</td>\n",
              "      <td>Yes</td>\n",
              "      <td>No</td>\n",
              "      <td>0</td>\n",
              "      <td>166.7</td>\n",
              "      <td>113</td>\n",
              "      <td>28.34</td>\n",
              "      <td>148.3</td>\n",
              "      <td>122</td>\n",
              "      <td>12.61</td>\n",
              "      <td>186.9</td>\n",
              "      <td>121</td>\n",
              "      <td>8.41</td>\n",
              "      <td>10.1</td>\n",
              "      <td>3</td>\n",
              "      <td>2.73</td>\n",
              "      <td>3</td>\n",
              "      <td>False</td>\n",
              "    </tr>\n",
              "    <tr>\n",
              "      <th>...</th>\n",
              "      <td>...</td>\n",
              "      <td>...</td>\n",
              "      <td>...</td>\n",
              "      <td>...</td>\n",
              "      <td>...</td>\n",
              "      <td>...</td>\n",
              "      <td>...</td>\n",
              "      <td>...</td>\n",
              "      <td>...</td>\n",
              "      <td>...</td>\n",
              "      <td>...</td>\n",
              "      <td>...</td>\n",
              "      <td>...</td>\n",
              "      <td>...</td>\n",
              "      <td>...</td>\n",
              "      <td>...</td>\n",
              "      <td>...</td>\n",
              "      <td>...</td>\n",
              "      <td>...</td>\n",
              "      <td>...</td>\n",
              "    </tr>\n",
              "    <tr>\n",
              "      <th>3328</th>\n",
              "      <td>AZ</td>\n",
              "      <td>192</td>\n",
              "      <td>415</td>\n",
              "      <td>No</td>\n",
              "      <td>Yes</td>\n",
              "      <td>36</td>\n",
              "      <td>156.2</td>\n",
              "      <td>77</td>\n",
              "      <td>26.55</td>\n",
              "      <td>215.5</td>\n",
              "      <td>126</td>\n",
              "      <td>18.32</td>\n",
              "      <td>279.1</td>\n",
              "      <td>83</td>\n",
              "      <td>12.56</td>\n",
              "      <td>9.9</td>\n",
              "      <td>6</td>\n",
              "      <td>2.67</td>\n",
              "      <td>2</td>\n",
              "      <td>False</td>\n",
              "    </tr>\n",
              "    <tr>\n",
              "      <th>3329</th>\n",
              "      <td>WV</td>\n",
              "      <td>68</td>\n",
              "      <td>415</td>\n",
              "      <td>No</td>\n",
              "      <td>No</td>\n",
              "      <td>0</td>\n",
              "      <td>231.1</td>\n",
              "      <td>57</td>\n",
              "      <td>39.29</td>\n",
              "      <td>153.4</td>\n",
              "      <td>55</td>\n",
              "      <td>13.04</td>\n",
              "      <td>191.3</td>\n",
              "      <td>123</td>\n",
              "      <td>8.61</td>\n",
              "      <td>9.6</td>\n",
              "      <td>4</td>\n",
              "      <td>2.59</td>\n",
              "      <td>3</td>\n",
              "      <td>False</td>\n",
              "    </tr>\n",
              "    <tr>\n",
              "      <th>3330</th>\n",
              "      <td>RI</td>\n",
              "      <td>28</td>\n",
              "      <td>510</td>\n",
              "      <td>No</td>\n",
              "      <td>No</td>\n",
              "      <td>0</td>\n",
              "      <td>180.8</td>\n",
              "      <td>109</td>\n",
              "      <td>30.74</td>\n",
              "      <td>288.8</td>\n",
              "      <td>58</td>\n",
              "      <td>24.55</td>\n",
              "      <td>191.9</td>\n",
              "      <td>91</td>\n",
              "      <td>8.64</td>\n",
              "      <td>14.1</td>\n",
              "      <td>6</td>\n",
              "      <td>3.81</td>\n",
              "      <td>2</td>\n",
              "      <td>False</td>\n",
              "    </tr>\n",
              "    <tr>\n",
              "      <th>3331</th>\n",
              "      <td>CT</td>\n",
              "      <td>184</td>\n",
              "      <td>510</td>\n",
              "      <td>Yes</td>\n",
              "      <td>No</td>\n",
              "      <td>0</td>\n",
              "      <td>213.8</td>\n",
              "      <td>105</td>\n",
              "      <td>36.35</td>\n",
              "      <td>159.6</td>\n",
              "      <td>84</td>\n",
              "      <td>13.57</td>\n",
              "      <td>139.2</td>\n",
              "      <td>137</td>\n",
              "      <td>6.26</td>\n",
              "      <td>5.0</td>\n",
              "      <td>10</td>\n",
              "      <td>1.35</td>\n",
              "      <td>2</td>\n",
              "      <td>False</td>\n",
              "    </tr>\n",
              "    <tr>\n",
              "      <th>3332</th>\n",
              "      <td>TN</td>\n",
              "      <td>74</td>\n",
              "      <td>415</td>\n",
              "      <td>No</td>\n",
              "      <td>Yes</td>\n",
              "      <td>25</td>\n",
              "      <td>234.4</td>\n",
              "      <td>113</td>\n",
              "      <td>39.85</td>\n",
              "      <td>265.9</td>\n",
              "      <td>82</td>\n",
              "      <td>22.60</td>\n",
              "      <td>241.4</td>\n",
              "      <td>77</td>\n",
              "      <td>10.86</td>\n",
              "      <td>13.7</td>\n",
              "      <td>4</td>\n",
              "      <td>3.70</td>\n",
              "      <td>0</td>\n",
              "      <td>False</td>\n",
              "    </tr>\n",
              "  </tbody>\n",
              "</table>\n",
              "<p>3333 rows × 20 columns</p>\n",
              "</div>"
            ],
            "text/plain": [
              "     State  Account length  Area code International plan Voice mail plan  \\\n",
              "0       KS             128        415                 No             Yes   \n",
              "1       OH             107        415                 No             Yes   \n",
              "2       NJ             137        415                 No              No   \n",
              "3       OH              84        408                Yes              No   \n",
              "4       OK              75        415                Yes              No   \n",
              "...    ...             ...        ...                ...             ...   \n",
              "3328    AZ             192        415                 No             Yes   \n",
              "3329    WV              68        415                 No              No   \n",
              "3330    RI              28        510                 No              No   \n",
              "3331    CT             184        510                Yes              No   \n",
              "3332    TN              74        415                 No             Yes   \n",
              "\n",
              "      Number vmail messages  Total day minutes  Total day calls  \\\n",
              "0                        25              265.1              110   \n",
              "1                        26              161.6              123   \n",
              "2                         0              243.4              114   \n",
              "3                         0              299.4               71   \n",
              "4                         0              166.7              113   \n",
              "...                     ...                ...              ...   \n",
              "3328                     36              156.2               77   \n",
              "3329                      0              231.1               57   \n",
              "3330                      0              180.8              109   \n",
              "3331                      0              213.8              105   \n",
              "3332                     25              234.4              113   \n",
              "\n",
              "      Total day charge  Total eve minutes  Total eve calls  Total eve charge  \\\n",
              "0                45.07              197.4               99             16.78   \n",
              "1                27.47              195.5              103             16.62   \n",
              "2                41.38              121.2              110             10.30   \n",
              "3                50.90               61.9               88              5.26   \n",
              "4                28.34              148.3              122             12.61   \n",
              "...                ...                ...              ...               ...   \n",
              "3328             26.55              215.5              126             18.32   \n",
              "3329             39.29              153.4               55             13.04   \n",
              "3330             30.74              288.8               58             24.55   \n",
              "3331             36.35              159.6               84             13.57   \n",
              "3332             39.85              265.9               82             22.60   \n",
              "\n",
              "      Total night minutes  Total night calls  Total night charge  \\\n",
              "0                   244.7                 91               11.01   \n",
              "1                   254.4                103               11.45   \n",
              "2                   162.6                104                7.32   \n",
              "3                   196.9                 89                8.86   \n",
              "4                   186.9                121                8.41   \n",
              "...                   ...                ...                 ...   \n",
              "3328                279.1                 83               12.56   \n",
              "3329                191.3                123                8.61   \n",
              "3330                191.9                 91                8.64   \n",
              "3331                139.2                137                6.26   \n",
              "3332                241.4                 77               10.86   \n",
              "\n",
              "      Total intl minutes  Total intl calls  Total intl charge  \\\n",
              "0                   10.0                 3               2.70   \n",
              "1                   13.7                 3               3.70   \n",
              "2                   12.2                 5               3.29   \n",
              "3                    6.6                 7               1.78   \n",
              "4                   10.1                 3               2.73   \n",
              "...                  ...               ...                ...   \n",
              "3328                 9.9                 6               2.67   \n",
              "3329                 9.6                 4               2.59   \n",
              "3330                14.1                 6               3.81   \n",
              "3331                 5.0                10               1.35   \n",
              "3332                13.7                 4               3.70   \n",
              "\n",
              "      Customer service calls  Churn  \n",
              "0                          1  False  \n",
              "1                          1  False  \n",
              "2                          0  False  \n",
              "3                          2  False  \n",
              "4                          3  False  \n",
              "...                      ...    ...  \n",
              "3328                       2  False  \n",
              "3329                       3  False  \n",
              "3330                       2  False  \n",
              "3331                       2  False  \n",
              "3332                       0  False  \n",
              "\n",
              "[3333 rows x 20 columns]"
            ]
          },
          "execution_count": 1,
          "metadata": {},
          "output_type": "execute_result"
        }
      ],
      "source": [
        "import pandas as pd\n",
        "import numpy as np\n",
        "from sklearn.model_selection import train_test_split\n",
        "from sklearn.preprocessing import StandardScaler\n",
        "from sklearn.linear_model import LogisticRegression\n",
        "from sklearn.tree import DecisionTreeClassifier\n",
        "from sklearn.svm import SVC\n",
        "from sklearn.metrics import roc_auc_score\n",
        "from sklearn.model_selection import GridSearchCV\n",
        "\n",
        "df = pd.read_csv(\"telecom_churn.csv\")\n",
        "df"
      ]
    },
    {
      "cell_type": "code",
      "execution_count": 2,
      "metadata": {},
      "outputs": [
        {
          "name": "stdout",
          "output_type": "stream",
          "text": [
            "<class 'pandas.core.frame.DataFrame'>\n",
            "RangeIndex: 3333 entries, 0 to 3332\n",
            "Data columns (total 20 columns):\n",
            " #   Column                  Non-Null Count  Dtype  \n",
            "---  ------                  --------------  -----  \n",
            " 0   State                   3333 non-null   object \n",
            " 1   Account length          3333 non-null   int64  \n",
            " 2   Area code               3333 non-null   int64  \n",
            " 3   International plan      3333 non-null   object \n",
            " 4   Voice mail plan         3333 non-null   object \n",
            " 5   Number vmail messages   3333 non-null   int64  \n",
            " 6   Total day minutes       3333 non-null   float64\n",
            " 7   Total day calls         3333 non-null   int64  \n",
            " 8   Total day charge        3333 non-null   float64\n",
            " 9   Total eve minutes       3333 non-null   float64\n",
            " 10  Total eve calls         3333 non-null   int64  \n",
            " 11  Total eve charge        3333 non-null   float64\n",
            " 12  Total night minutes     3333 non-null   float64\n",
            " 13  Total night calls       3333 non-null   int64  \n",
            " 14  Total night charge      3333 non-null   float64\n",
            " 15  Total intl minutes      3333 non-null   float64\n",
            " 16  Total intl calls        3333 non-null   int64  \n",
            " 17  Total intl charge       3333 non-null   float64\n",
            " 18  Customer service calls  3333 non-null   int64  \n",
            " 19  Churn                   3333 non-null   bool   \n",
            "dtypes: bool(1), float64(8), int64(8), object(3)\n",
            "memory usage: 498.1+ KB\n"
          ]
        }
      ],
      "source": [
        "df.info()"
      ]
    },
    {
      "cell_type": "markdown",
      "metadata": {
        "id": "MT5L6lWZyDkE"
      },
      "source": [
        "Первичная обработка данных:\n",
        "\n",
        "1. Выбросим колонку State.\n",
        "\n",
        "2. Колонки International plan и Voice mail plan закодируем следующим образом: Yes заменим на 1, а No на 0.\n",
        "\n",
        "3. Переведем целевую переменную (Churn) в числа: True в 1, а False в 0."
      ]
    },
    {
      "cell_type": "code",
      "execution_count": 4,
      "metadata": {},
      "outputs": [],
      "source": [
        "# удалим колонку State\n",
        "df = df.drop(['State'], axis=1)\n",
        "\n",
        "# Колонки International plan и Voice mail plan закодируем следующим образом: Yes заменим на 1, а No на 0\n",
        "df = pd.get_dummies(df, dtype=float)\n",
        "\n",
        "# Переведем целевую переменную (Churn) в числа: True в 1, а False в 0\n",
        "df['Churn'] = df['Churn'].astype(int)"
      ]
    },
    {
      "cell_type": "code",
      "execution_count": 5,
      "metadata": {},
      "outputs": [
        {
          "name": "stdout",
          "output_type": "stream",
          "text": [
            "<class 'pandas.core.frame.DataFrame'>\n",
            "RangeIndex: 3333 entries, 0 to 3332\n",
            "Data columns (total 21 columns):\n",
            " #   Column                  Non-Null Count  Dtype  \n",
            "---  ------                  --------------  -----  \n",
            " 0   Account length          3333 non-null   int64  \n",
            " 1   Area code               3333 non-null   int64  \n",
            " 2   Number vmail messages   3333 non-null   int64  \n",
            " 3   Total day minutes       3333 non-null   float64\n",
            " 4   Total day calls         3333 non-null   int64  \n",
            " 5   Total day charge        3333 non-null   float64\n",
            " 6   Total eve minutes       3333 non-null   float64\n",
            " 7   Total eve calls         3333 non-null   int64  \n",
            " 8   Total eve charge        3333 non-null   float64\n",
            " 9   Total night minutes     3333 non-null   float64\n",
            " 10  Total night calls       3333 non-null   int64  \n",
            " 11  Total night charge      3333 non-null   float64\n",
            " 12  Total intl minutes      3333 non-null   float64\n",
            " 13  Total intl calls        3333 non-null   int64  \n",
            " 14  Total intl charge       3333 non-null   float64\n",
            " 15  Customer service calls  3333 non-null   int64  \n",
            " 16  Churn                   3333 non-null   int32  \n",
            " 17  International plan_No   3333 non-null   float64\n",
            " 18  International plan_Yes  3333 non-null   float64\n",
            " 19  Voice mail plan_No      3333 non-null   float64\n",
            " 20  Voice mail plan_Yes     3333 non-null   float64\n",
            "dtypes: float64(12), int32(1), int64(8)\n",
            "memory usage: 533.9 KB\n"
          ]
        }
      ],
      "source": [
        "df.info()"
      ]
    },
    {
      "cell_type": "markdown",
      "metadata": {
        "id": "N2hAu7tmy0Ps"
      },
      "source": [
        "Выведем на экран первые строки изменённой таблицы, чтобы проверить, что все преобразования сработали."
      ]
    },
    {
      "cell_type": "code",
      "execution_count": 6,
      "metadata": {
        "id": "lG9oOv0uydW8"
      },
      "outputs": [
        {
          "data": {
            "text/html": [
              "<div>\n",
              "<style scoped>\n",
              "    .dataframe tbody tr th:only-of-type {\n",
              "        vertical-align: middle;\n",
              "    }\n",
              "\n",
              "    .dataframe tbody tr th {\n",
              "        vertical-align: top;\n",
              "    }\n",
              "\n",
              "    .dataframe thead th {\n",
              "        text-align: right;\n",
              "    }\n",
              "</style>\n",
              "<table border=\"1\" class=\"dataframe\">\n",
              "  <thead>\n",
              "    <tr style=\"text-align: right;\">\n",
              "      <th></th>\n",
              "      <th>Account length</th>\n",
              "      <th>Area code</th>\n",
              "      <th>Number vmail messages</th>\n",
              "      <th>Total day minutes</th>\n",
              "      <th>Total day calls</th>\n",
              "      <th>Total day charge</th>\n",
              "      <th>Total eve minutes</th>\n",
              "      <th>Total eve calls</th>\n",
              "      <th>Total eve charge</th>\n",
              "      <th>Total night minutes</th>\n",
              "      <th>...</th>\n",
              "      <th>Total night charge</th>\n",
              "      <th>Total intl minutes</th>\n",
              "      <th>Total intl calls</th>\n",
              "      <th>Total intl charge</th>\n",
              "      <th>Customer service calls</th>\n",
              "      <th>Churn</th>\n",
              "      <th>International plan_No</th>\n",
              "      <th>International plan_Yes</th>\n",
              "      <th>Voice mail plan_No</th>\n",
              "      <th>Voice mail plan_Yes</th>\n",
              "    </tr>\n",
              "  </thead>\n",
              "  <tbody>\n",
              "    <tr>\n",
              "      <th>0</th>\n",
              "      <td>128</td>\n",
              "      <td>415</td>\n",
              "      <td>25</td>\n",
              "      <td>265.1</td>\n",
              "      <td>110</td>\n",
              "      <td>45.07</td>\n",
              "      <td>197.4</td>\n",
              "      <td>99</td>\n",
              "      <td>16.78</td>\n",
              "      <td>244.7</td>\n",
              "      <td>...</td>\n",
              "      <td>11.01</td>\n",
              "      <td>10.0</td>\n",
              "      <td>3</td>\n",
              "      <td>2.70</td>\n",
              "      <td>1</td>\n",
              "      <td>0</td>\n",
              "      <td>1.0</td>\n",
              "      <td>0.0</td>\n",
              "      <td>0.0</td>\n",
              "      <td>1.0</td>\n",
              "    </tr>\n",
              "    <tr>\n",
              "      <th>1</th>\n",
              "      <td>107</td>\n",
              "      <td>415</td>\n",
              "      <td>26</td>\n",
              "      <td>161.6</td>\n",
              "      <td>123</td>\n",
              "      <td>27.47</td>\n",
              "      <td>195.5</td>\n",
              "      <td>103</td>\n",
              "      <td>16.62</td>\n",
              "      <td>254.4</td>\n",
              "      <td>...</td>\n",
              "      <td>11.45</td>\n",
              "      <td>13.7</td>\n",
              "      <td>3</td>\n",
              "      <td>3.70</td>\n",
              "      <td>1</td>\n",
              "      <td>0</td>\n",
              "      <td>1.0</td>\n",
              "      <td>0.0</td>\n",
              "      <td>0.0</td>\n",
              "      <td>1.0</td>\n",
              "    </tr>\n",
              "    <tr>\n",
              "      <th>2</th>\n",
              "      <td>137</td>\n",
              "      <td>415</td>\n",
              "      <td>0</td>\n",
              "      <td>243.4</td>\n",
              "      <td>114</td>\n",
              "      <td>41.38</td>\n",
              "      <td>121.2</td>\n",
              "      <td>110</td>\n",
              "      <td>10.30</td>\n",
              "      <td>162.6</td>\n",
              "      <td>...</td>\n",
              "      <td>7.32</td>\n",
              "      <td>12.2</td>\n",
              "      <td>5</td>\n",
              "      <td>3.29</td>\n",
              "      <td>0</td>\n",
              "      <td>0</td>\n",
              "      <td>1.0</td>\n",
              "      <td>0.0</td>\n",
              "      <td>1.0</td>\n",
              "      <td>0.0</td>\n",
              "    </tr>\n",
              "    <tr>\n",
              "      <th>3</th>\n",
              "      <td>84</td>\n",
              "      <td>408</td>\n",
              "      <td>0</td>\n",
              "      <td>299.4</td>\n",
              "      <td>71</td>\n",
              "      <td>50.90</td>\n",
              "      <td>61.9</td>\n",
              "      <td>88</td>\n",
              "      <td>5.26</td>\n",
              "      <td>196.9</td>\n",
              "      <td>...</td>\n",
              "      <td>8.86</td>\n",
              "      <td>6.6</td>\n",
              "      <td>7</td>\n",
              "      <td>1.78</td>\n",
              "      <td>2</td>\n",
              "      <td>0</td>\n",
              "      <td>0.0</td>\n",
              "      <td>1.0</td>\n",
              "      <td>1.0</td>\n",
              "      <td>0.0</td>\n",
              "    </tr>\n",
              "    <tr>\n",
              "      <th>4</th>\n",
              "      <td>75</td>\n",
              "      <td>415</td>\n",
              "      <td>0</td>\n",
              "      <td>166.7</td>\n",
              "      <td>113</td>\n",
              "      <td>28.34</td>\n",
              "      <td>148.3</td>\n",
              "      <td>122</td>\n",
              "      <td>12.61</td>\n",
              "      <td>186.9</td>\n",
              "      <td>...</td>\n",
              "      <td>8.41</td>\n",
              "      <td>10.1</td>\n",
              "      <td>3</td>\n",
              "      <td>2.73</td>\n",
              "      <td>3</td>\n",
              "      <td>0</td>\n",
              "      <td>0.0</td>\n",
              "      <td>1.0</td>\n",
              "      <td>1.0</td>\n",
              "      <td>0.0</td>\n",
              "    </tr>\n",
              "  </tbody>\n",
              "</table>\n",
              "<p>5 rows × 21 columns</p>\n",
              "</div>"
            ],
            "text/plain": [
              "   Account length  Area code  Number vmail messages  Total day minutes  \\\n",
              "0             128        415                     25              265.1   \n",
              "1             107        415                     26              161.6   \n",
              "2             137        415                      0              243.4   \n",
              "3              84        408                      0              299.4   \n",
              "4              75        415                      0              166.7   \n",
              "\n",
              "   Total day calls  Total day charge  Total eve minutes  Total eve calls  \\\n",
              "0              110             45.07              197.4               99   \n",
              "1              123             27.47              195.5              103   \n",
              "2              114             41.38              121.2              110   \n",
              "3               71             50.90               61.9               88   \n",
              "4              113             28.34              148.3              122   \n",
              "\n",
              "   Total eve charge  Total night minutes  ...  Total night charge  \\\n",
              "0             16.78                244.7  ...               11.01   \n",
              "1             16.62                254.4  ...               11.45   \n",
              "2             10.30                162.6  ...                7.32   \n",
              "3              5.26                196.9  ...                8.86   \n",
              "4             12.61                186.9  ...                8.41   \n",
              "\n",
              "   Total intl minutes  Total intl calls  Total intl charge  \\\n",
              "0                10.0                 3               2.70   \n",
              "1                13.7                 3               3.70   \n",
              "2                12.2                 5               3.29   \n",
              "3                 6.6                 7               1.78   \n",
              "4                10.1                 3               2.73   \n",
              "\n",
              "   Customer service calls  Churn  International plan_No  \\\n",
              "0                       1      0                    1.0   \n",
              "1                       1      0                    1.0   \n",
              "2                       0      0                    1.0   \n",
              "3                       2      0                    0.0   \n",
              "4                       3      0                    0.0   \n",
              "\n",
              "   International plan_Yes  Voice mail plan_No  Voice mail plan_Yes  \n",
              "0                     0.0                 0.0                  1.0  \n",
              "1                     0.0                 0.0                  1.0  \n",
              "2                     0.0                 1.0                  0.0  \n",
              "3                     1.0                 1.0                  0.0  \n",
              "4                     1.0                 1.0                  0.0  \n",
              "\n",
              "[5 rows x 21 columns]"
            ]
          },
          "execution_count": 6,
          "metadata": {},
          "output_type": "execute_result"
        }
      ],
      "source": [
        "df.head()"
      ]
    },
    {
      "cell_type": "markdown",
      "metadata": {
        "id": "6_y9azfEzBYd"
      },
      "source": [
        "Создадим матрицу объект-признак X и вектор с целевой переменной (Churn) y."
      ]
    },
    {
      "cell_type": "code",
      "execution_count": 7,
      "metadata": {
        "id": "Nd0nCW4eypLE"
      },
      "outputs": [],
      "source": [
        "X = df.drop(['Churn'], axis=1)\n",
        "y = df['Churn']"
      ]
    },
    {
      "cell_type": "markdown",
      "metadata": {
        "id": "NEvkoGWw1hFL"
      },
      "source": [
        "Проверим баланс классов. Является ли выборка сбалансированной?"
      ]
    },
    {
      "cell_type": "code",
      "execution_count": 8,
      "metadata": {
        "id": "RpPcEOAm1keZ"
      },
      "outputs": [
        {
          "data": {
            "text/plain": [
              "Churn\n",
              "0    2850\n",
              "1     483\n",
              "Name: count, dtype: int64"
            ]
          },
          "execution_count": 8,
          "metadata": {},
          "output_type": "execute_result"
        }
      ],
      "source": [
        "y.value_counts()"
      ]
    },
    {
      "cell_type": "markdown",
      "metadata": {},
      "source": [
        "***выборка не является сбалансированной***"
      ]
    },
    {
      "cell_type": "markdown",
      "metadata": {
        "id": "AYFme2HyzQxL"
      },
      "source": [
        "Разобьем данные на тренировочную и тестовую части, размер тестовой части — 30%."
      ]
    },
    {
      "cell_type": "code",
      "execution_count": 9,
      "metadata": {
        "id": "Cj13GmJlzQDS"
      },
      "outputs": [],
      "source": [
        "X_train, X_test, y_train, y_test = train_test_split(X, y, test_size=0.3, random_state=42)"
      ]
    },
    {
      "cell_type": "markdown",
      "metadata": {
        "id": "GbuDWle1z2Uh"
      },
      "source": [
        "Для линейных моделей очень важно масштабирование признаков. Поэтому отмасштабируем признаки при помощи StandardScaler, обучив метод на тренировочных данных и применив его и к трейну, и к тесту."
      ]
    },
    {
      "cell_type": "code",
      "execution_count": 10,
      "metadata": {
        "id": "69H1fh7VzaZf"
      },
      "outputs": [],
      "source": [
        "scaler = StandardScaler()\n",
        "\n",
        "scaler.fit(X_train.values)\n",
        "\n",
        "X_train_std = scaler.transform(X_train.values)\n",
        "X_test_std = scaler.transform(X_test.values)"
      ]
    },
    {
      "cell_type": "markdown",
      "metadata": {
        "id": "zvAH5Qte0W50"
      },
      "source": [
        "После масштабирования признаков X_train и X_test перестали быть объектами типа pd.DataFrame, это неудобно. Приведем их снова к pd.DataFrame."
      ]
    },
    {
      "cell_type": "code",
      "execution_count": 11,
      "metadata": {
        "id": "PRlpMQ750WSU"
      },
      "outputs": [],
      "source": [
        "X_train[X_train.columns.to_list()] = X_train_std\n",
        "X_test[X_test.columns.to_list()] = X_test_std"
      ]
    },
    {
      "cell_type": "code",
      "execution_count": 12,
      "metadata": {},
      "outputs": [
        {
          "data": {
            "text/html": [
              "<div>\n",
              "<style scoped>\n",
              "    .dataframe tbody tr th:only-of-type {\n",
              "        vertical-align: middle;\n",
              "    }\n",
              "\n",
              "    .dataframe tbody tr th {\n",
              "        vertical-align: top;\n",
              "    }\n",
              "\n",
              "    .dataframe thead th {\n",
              "        text-align: right;\n",
              "    }\n",
              "</style>\n",
              "<table border=\"1\" class=\"dataframe\">\n",
              "  <thead>\n",
              "    <tr style=\"text-align: right;\">\n",
              "      <th></th>\n",
              "      <th>Account length</th>\n",
              "      <th>Area code</th>\n",
              "      <th>Number vmail messages</th>\n",
              "      <th>Total day minutes</th>\n",
              "      <th>Total day calls</th>\n",
              "      <th>Total day charge</th>\n",
              "      <th>Total eve minutes</th>\n",
              "      <th>Total eve calls</th>\n",
              "      <th>Total eve charge</th>\n",
              "      <th>Total night minutes</th>\n",
              "      <th>Total night calls</th>\n",
              "      <th>Total night charge</th>\n",
              "      <th>Total intl minutes</th>\n",
              "      <th>Total intl calls</th>\n",
              "      <th>Total intl charge</th>\n",
              "      <th>Customer service calls</th>\n",
              "      <th>International plan_No</th>\n",
              "      <th>International plan_Yes</th>\n",
              "      <th>Voice mail plan_No</th>\n",
              "      <th>Voice mail plan_Yes</th>\n",
              "    </tr>\n",
              "  </thead>\n",
              "  <tbody>\n",
              "    <tr>\n",
              "      <th>2016</th>\n",
              "      <td>-0.511937</td>\n",
              "      <td>1.740454</td>\n",
              "      <td>-0.585483</td>\n",
              "      <td>0.410716</td>\n",
              "      <td>0.873749</td>\n",
              "      <td>0.410877</td>\n",
              "      <td>1.167102</td>\n",
              "      <td>-1.646317</td>\n",
              "      <td>1.167733</td>\n",
              "      <td>-0.456961</td>\n",
              "      <td>0.615443</td>\n",
              "      <td>-0.458282</td>\n",
              "      <td>-0.373682</td>\n",
              "      <td>0.226639</td>\n",
              "      <td>-0.379643</td>\n",
              "      <td>1.073319</td>\n",
              "      <td>0.324289</td>\n",
              "      <td>-0.324289</td>\n",
              "      <td>0.612192</td>\n",
              "      <td>-0.612192</td>\n",
              "    </tr>\n",
              "    <tr>\n",
              "      <th>1362</th>\n",
              "      <td>-0.939002</td>\n",
              "      <td>1.740454</td>\n",
              "      <td>-0.585483</td>\n",
              "      <td>-0.864713</td>\n",
              "      <td>1.074874</td>\n",
              "      <td>-0.865095</td>\n",
              "      <td>-2.639021</td>\n",
              "      <td>-1.895351</td>\n",
              "      <td>-2.637901</td>\n",
              "      <td>-0.790790</td>\n",
              "      <td>1.075039</td>\n",
              "      <td>-0.789925</td>\n",
              "      <td>-0.122835</td>\n",
              "      <td>-0.997316</td>\n",
              "      <td>-0.127479</td>\n",
              "      <td>1.073319</td>\n",
              "      <td>0.324289</td>\n",
              "      <td>-0.324289</td>\n",
              "      <td>0.612192</td>\n",
              "      <td>-0.612192</td>\n",
              "    </tr>\n",
              "    <tr>\n",
              "      <th>2670</th>\n",
              "      <td>0.392435</td>\n",
              "      <td>1.740454</td>\n",
              "      <td>0.289180</td>\n",
              "      <td>0.752053</td>\n",
              "      <td>0.370935</td>\n",
              "      <td>0.752000</td>\n",
              "      <td>-0.984185</td>\n",
              "      <td>0.893834</td>\n",
              "      <td>-0.983076</td>\n",
              "      <td>-0.425542</td>\n",
              "      <td>-1.018675</td>\n",
              "      <td>-0.423373</td>\n",
              "      <td>-0.445353</td>\n",
              "      <td>0.634624</td>\n",
              "      <td>-0.446002</td>\n",
              "      <td>0.323378</td>\n",
              "      <td>0.324289</td>\n",
              "      <td>-0.324289</td>\n",
              "      <td>-1.633475</td>\n",
              "      <td>1.633475</td>\n",
              "    </tr>\n",
              "    <tr>\n",
              "      <th>2210</th>\n",
              "      <td>-0.738030</td>\n",
              "      <td>-0.515843</td>\n",
              "      <td>-0.585483</td>\n",
              "      <td>1.814605</td>\n",
              "      <td>0.471498</td>\n",
              "      <td>1.814230</td>\n",
              "      <td>-0.211928</td>\n",
              "      <td>-1.646317</td>\n",
              "      <td>-0.211288</td>\n",
              "      <td>1.070799</td>\n",
              "      <td>-0.814411</td>\n",
              "      <td>1.069020</td>\n",
              "      <td>0.522200</td>\n",
              "      <td>1.042609</td>\n",
              "      <td>0.522840</td>\n",
              "      <td>-1.176504</td>\n",
              "      <td>0.324289</td>\n",
              "      <td>-0.324289</td>\n",
              "      <td>0.612192</td>\n",
              "      <td>-0.612192</td>\n",
              "    </tr>\n",
              "    <tr>\n",
              "      <th>1846</th>\n",
              "      <td>0.492921</td>\n",
              "      <td>1.740454</td>\n",
              "      <td>2.548723</td>\n",
              "      <td>-0.038896</td>\n",
              "      <td>0.823467</td>\n",
              "      <td>-0.039276</td>\n",
              "      <td>-0.509404</td>\n",
              "      <td>-1.496896</td>\n",
              "      <td>-0.510269</td>\n",
              "      <td>-0.773117</td>\n",
              "      <td>0.870774</td>\n",
              "      <td>-0.772470</td>\n",
              "      <td>0.450529</td>\n",
              "      <td>-0.181346</td>\n",
              "      <td>0.456481</td>\n",
              "      <td>-0.426563</td>\n",
              "      <td>0.324289</td>\n",
              "      <td>-0.324289</td>\n",
              "      <td>-1.633475</td>\n",
              "      <td>1.633475</td>\n",
              "    </tr>\n",
              "    <tr>\n",
              "      <th>...</th>\n",
              "      <td>...</td>\n",
              "      <td>...</td>\n",
              "      <td>...</td>\n",
              "      <td>...</td>\n",
              "      <td>...</td>\n",
              "      <td>...</td>\n",
              "      <td>...</td>\n",
              "      <td>...</td>\n",
              "      <td>...</td>\n",
              "      <td>...</td>\n",
              "      <td>...</td>\n",
              "      <td>...</td>\n",
              "      <td>...</td>\n",
              "      <td>...</td>\n",
              "      <td>...</td>\n",
              "      <td>...</td>\n",
              "      <td>...</td>\n",
              "      <td>...</td>\n",
              "      <td>...</td>\n",
              "      <td>...</td>\n",
              "    </tr>\n",
              "    <tr>\n",
              "      <th>1095</th>\n",
              "      <td>0.141221</td>\n",
              "      <td>1.740454</td>\n",
              "      <td>-0.585483</td>\n",
              "      <td>1.732023</td>\n",
              "      <td>0.974311</td>\n",
              "      <td>1.732188</td>\n",
              "      <td>-0.046444</td>\n",
              "      <td>-0.899214</td>\n",
              "      <td>-0.046732</td>\n",
              "      <td>-0.782936</td>\n",
              "      <td>-1.937867</td>\n",
              "      <td>-0.781198</td>\n",
              "      <td>-1.520411</td>\n",
              "      <td>-0.589331</td>\n",
              "      <td>-1.521019</td>\n",
              "      <td>-0.426563</td>\n",
              "      <td>0.324289</td>\n",
              "      <td>-0.324289</td>\n",
              "      <td>0.612192</td>\n",
              "      <td>-0.612192</td>\n",
              "    </tr>\n",
              "    <tr>\n",
              "      <th>1130</th>\n",
              "      <td>0.543164</td>\n",
              "      <td>-0.515843</td>\n",
              "      <td>-0.585483</td>\n",
              "      <td>-2.659490</td>\n",
              "      <td>-1.942006</td>\n",
              "      <td>-2.659228</td>\n",
              "      <td>-0.397112</td>\n",
              "      <td>-0.550566</td>\n",
              "      <td>-0.396702</td>\n",
              "      <td>1.000106</td>\n",
              "      <td>-2.142132</td>\n",
              "      <td>0.999200</td>\n",
              "      <td>0.880552</td>\n",
              "      <td>-0.997316</td>\n",
              "      <td>0.881179</td>\n",
              "      <td>-0.426563</td>\n",
              "      <td>0.324289</td>\n",
              "      <td>-0.324289</td>\n",
              "      <td>0.612192</td>\n",
              "      <td>-0.612192</td>\n",
              "    </tr>\n",
              "    <tr>\n",
              "      <th>1294</th>\n",
              "      <td>-0.863638</td>\n",
              "      <td>-0.682096</td>\n",
              "      <td>-0.585483</td>\n",
              "      <td>-1.696036</td>\n",
              "      <td>-1.238068</td>\n",
              "      <td>-1.696312</td>\n",
              "      <td>1.202563</td>\n",
              "      <td>0.545186</td>\n",
              "      <td>1.202498</td>\n",
              "      <td>-0.315574</td>\n",
              "      <td>1.279303</td>\n",
              "      <td>-0.314280</td>\n",
              "      <td>-0.373682</td>\n",
              "      <td>0.226639</td>\n",
              "      <td>-0.379643</td>\n",
              "      <td>-0.426563</td>\n",
              "      <td>0.324289</td>\n",
              "      <td>-0.324289</td>\n",
              "      <td>0.612192</td>\n",
              "      <td>-0.612192</td>\n",
              "    </tr>\n",
              "    <tr>\n",
              "      <th>860</th>\n",
              "      <td>1.723873</td>\n",
              "      <td>-0.515843</td>\n",
              "      <td>-0.585483</td>\n",
              "      <td>-0.015039</td>\n",
              "      <td>0.521779</td>\n",
              "      <td>-0.015527</td>\n",
              "      <td>-0.507434</td>\n",
              "      <td>1.491516</td>\n",
              "      <td>-0.507951</td>\n",
              "      <td>0.548455</td>\n",
              "      <td>-0.405881</td>\n",
              "      <td>0.549737</td>\n",
              "      <td>-0.122835</td>\n",
              "      <td>0.634624</td>\n",
              "      <td>-0.127479</td>\n",
              "      <td>0.323378</td>\n",
              "      <td>0.324289</td>\n",
              "      <td>-0.324289</td>\n",
              "      <td>0.612192</td>\n",
              "      <td>-0.612192</td>\n",
              "    </tr>\n",
              "    <tr>\n",
              "      <th>3174</th>\n",
              "      <td>-1.617282</td>\n",
              "      <td>-0.682096</td>\n",
              "      <td>2.548723</td>\n",
              "      <td>-2.754918</td>\n",
              "      <td>1.125155</td>\n",
              "      <td>-2.755304</td>\n",
              "      <td>-1.415624</td>\n",
              "      <td>0.844027</td>\n",
              "      <td>-1.416482</td>\n",
              "      <td>2.459137</td>\n",
              "      <td>0.257980</td>\n",
              "      <td>2.461047</td>\n",
              "      <td>-0.588694</td>\n",
              "      <td>0.634624</td>\n",
              "      <td>-0.591992</td>\n",
              "      <td>0.323378</td>\n",
              "      <td>0.324289</td>\n",
              "      <td>-0.324289</td>\n",
              "      <td>-1.633475</td>\n",
              "      <td>1.633475</td>\n",
              "    </tr>\n",
              "  </tbody>\n",
              "</table>\n",
              "<p>2333 rows × 20 columns</p>\n",
              "</div>"
            ],
            "text/plain": [
              "      Account length  Area code  Number vmail messages  Total day minutes  \\\n",
              "2016       -0.511937   1.740454              -0.585483           0.410716   \n",
              "1362       -0.939002   1.740454              -0.585483          -0.864713   \n",
              "2670        0.392435   1.740454               0.289180           0.752053   \n",
              "2210       -0.738030  -0.515843              -0.585483           1.814605   \n",
              "1846        0.492921   1.740454               2.548723          -0.038896   \n",
              "...              ...        ...                    ...                ...   \n",
              "1095        0.141221   1.740454              -0.585483           1.732023   \n",
              "1130        0.543164  -0.515843              -0.585483          -2.659490   \n",
              "1294       -0.863638  -0.682096              -0.585483          -1.696036   \n",
              "860         1.723873  -0.515843              -0.585483          -0.015039   \n",
              "3174       -1.617282  -0.682096               2.548723          -2.754918   \n",
              "\n",
              "      Total day calls  Total day charge  Total eve minutes  Total eve calls  \\\n",
              "2016         0.873749          0.410877           1.167102        -1.646317   \n",
              "1362         1.074874         -0.865095          -2.639021        -1.895351   \n",
              "2670         0.370935          0.752000          -0.984185         0.893834   \n",
              "2210         0.471498          1.814230          -0.211928        -1.646317   \n",
              "1846         0.823467         -0.039276          -0.509404        -1.496896   \n",
              "...               ...               ...                ...              ...   \n",
              "1095         0.974311          1.732188          -0.046444        -0.899214   \n",
              "1130        -1.942006         -2.659228          -0.397112        -0.550566   \n",
              "1294        -1.238068         -1.696312           1.202563         0.545186   \n",
              "860          0.521779         -0.015527          -0.507434         1.491516   \n",
              "3174         1.125155         -2.755304          -1.415624         0.844027   \n",
              "\n",
              "      Total eve charge  Total night minutes  Total night calls  \\\n",
              "2016          1.167733            -0.456961           0.615443   \n",
              "1362         -2.637901            -0.790790           1.075039   \n",
              "2670         -0.983076            -0.425542          -1.018675   \n",
              "2210         -0.211288             1.070799          -0.814411   \n",
              "1846         -0.510269            -0.773117           0.870774   \n",
              "...                ...                  ...                ...   \n",
              "1095         -0.046732            -0.782936          -1.937867   \n",
              "1130         -0.396702             1.000106          -2.142132   \n",
              "1294          1.202498            -0.315574           1.279303   \n",
              "860          -0.507951             0.548455          -0.405881   \n",
              "3174         -1.416482             2.459137           0.257980   \n",
              "\n",
              "      Total night charge  Total intl minutes  Total intl calls  \\\n",
              "2016           -0.458282           -0.373682          0.226639   \n",
              "1362           -0.789925           -0.122835         -0.997316   \n",
              "2670           -0.423373           -0.445353          0.634624   \n",
              "2210            1.069020            0.522200          1.042609   \n",
              "1846           -0.772470            0.450529         -0.181346   \n",
              "...                  ...                 ...               ...   \n",
              "1095           -0.781198           -1.520411         -0.589331   \n",
              "1130            0.999200            0.880552         -0.997316   \n",
              "1294           -0.314280           -0.373682          0.226639   \n",
              "860             0.549737           -0.122835          0.634624   \n",
              "3174            2.461047           -0.588694          0.634624   \n",
              "\n",
              "      Total intl charge  Customer service calls  International plan_No  \\\n",
              "2016          -0.379643                1.073319               0.324289   \n",
              "1362          -0.127479                1.073319               0.324289   \n",
              "2670          -0.446002                0.323378               0.324289   \n",
              "2210           0.522840               -1.176504               0.324289   \n",
              "1846           0.456481               -0.426563               0.324289   \n",
              "...                 ...                     ...                    ...   \n",
              "1095          -1.521019               -0.426563               0.324289   \n",
              "1130           0.881179               -0.426563               0.324289   \n",
              "1294          -0.379643               -0.426563               0.324289   \n",
              "860           -0.127479                0.323378               0.324289   \n",
              "3174          -0.591992                0.323378               0.324289   \n",
              "\n",
              "      International plan_Yes  Voice mail plan_No  Voice mail plan_Yes  \n",
              "2016               -0.324289            0.612192            -0.612192  \n",
              "1362               -0.324289            0.612192            -0.612192  \n",
              "2670               -0.324289           -1.633475             1.633475  \n",
              "2210               -0.324289            0.612192            -0.612192  \n",
              "1846               -0.324289           -1.633475             1.633475  \n",
              "...                      ...                 ...                  ...  \n",
              "1095               -0.324289            0.612192            -0.612192  \n",
              "1130               -0.324289            0.612192            -0.612192  \n",
              "1294               -0.324289            0.612192            -0.612192  \n",
              "860                -0.324289            0.612192            -0.612192  \n",
              "3174               -0.324289           -1.633475             1.633475  \n",
              "\n",
              "[2333 rows x 20 columns]"
            ]
          },
          "execution_count": 12,
          "metadata": {},
          "output_type": "execute_result"
        }
      ],
      "source": [
        "X_train"
      ]
    },
    {
      "cell_type": "code",
      "execution_count": 13,
      "metadata": {},
      "outputs": [
        {
          "data": {
            "text/html": [
              "<div>\n",
              "<style scoped>\n",
              "    .dataframe tbody tr th:only-of-type {\n",
              "        vertical-align: middle;\n",
              "    }\n",
              "\n",
              "    .dataframe tbody tr th {\n",
              "        vertical-align: top;\n",
              "    }\n",
              "\n",
              "    .dataframe thead th {\n",
              "        text-align: right;\n",
              "    }\n",
              "</style>\n",
              "<table border=\"1\" class=\"dataframe\">\n",
              "  <thead>\n",
              "    <tr style=\"text-align: right;\">\n",
              "      <th></th>\n",
              "      <th>Account length</th>\n",
              "      <th>Area code</th>\n",
              "      <th>Number vmail messages</th>\n",
              "      <th>Total day minutes</th>\n",
              "      <th>Total day calls</th>\n",
              "      <th>Total day charge</th>\n",
              "      <th>Total eve minutes</th>\n",
              "      <th>Total eve calls</th>\n",
              "      <th>Total eve charge</th>\n",
              "      <th>Total night minutes</th>\n",
              "      <th>Total night calls</th>\n",
              "      <th>Total night charge</th>\n",
              "      <th>Total intl minutes</th>\n",
              "      <th>Total intl calls</th>\n",
              "      <th>Total intl charge</th>\n",
              "      <th>Customer service calls</th>\n",
              "      <th>International plan_No</th>\n",
              "      <th>International plan_Yes</th>\n",
              "      <th>Voice mail plan_No</th>\n",
              "      <th>Voice mail plan_Yes</th>\n",
              "    </tr>\n",
              "  </thead>\n",
              "  <tbody>\n",
              "    <tr>\n",
              "      <th>438</th>\n",
              "      <td>0.317071</td>\n",
              "      <td>1.740454</td>\n",
              "      <td>-0.585483</td>\n",
              "      <td>-0.459145</td>\n",
              "      <td>-0.383285</td>\n",
              "      <td>-0.459202</td>\n",
              "      <td>2.554012</td>\n",
              "      <td>0.296151</td>\n",
              "      <td>2.553707</td>\n",
              "      <td>-0.221317</td>\n",
              "      <td>1.177171</td>\n",
              "      <td>-0.222641</td>\n",
              "      <td>1.167234</td>\n",
              "      <td>-0.589331</td>\n",
              "      <td>1.173159</td>\n",
              "      <td>-0.426563</td>\n",
              "      <td>0.324289</td>\n",
              "      <td>-0.324289</td>\n",
              "      <td>0.612192</td>\n",
              "      <td>-0.612192</td>\n",
              "    </tr>\n",
              "    <tr>\n",
              "      <th>2674</th>\n",
              "      <td>-0.838516</td>\n",
              "      <td>-0.515843</td>\n",
              "      <td>-0.585483</td>\n",
              "      <td>-1.301479</td>\n",
              "      <td>0.823467</td>\n",
              "      <td>-1.301214</td>\n",
              "      <td>0.323924</td>\n",
              "      <td>1.192675</td>\n",
              "      <td>0.324097</td>\n",
              "      <td>-0.240954</td>\n",
              "      <td>2.096363</td>\n",
              "      <td>-0.240096</td>\n",
              "      <td>0.916387</td>\n",
              "      <td>0.634624</td>\n",
              "      <td>0.920994</td>\n",
              "      <td>-1.176504</td>\n",
              "      <td>0.324289</td>\n",
              "      <td>-0.324289</td>\n",
              "      <td>0.612192</td>\n",
              "      <td>-0.612192</td>\n",
              "    </tr>\n",
              "    <tr>\n",
              "      <th>1345</th>\n",
              "      <td>-0.059751</td>\n",
              "      <td>-0.515843</td>\n",
              "      <td>-0.585483</td>\n",
              "      <td>-3.303627</td>\n",
              "      <td>-5.059450</td>\n",
              "      <td>-3.303691</td>\n",
              "      <td>-0.814761</td>\n",
              "      <td>1.491516</td>\n",
              "      <td>-0.813885</td>\n",
              "      <td>-0.659222</td>\n",
              "      <td>-0.610146</td>\n",
              "      <td>-0.659013</td>\n",
              "      <td>-1.233728</td>\n",
              "      <td>-1.405302</td>\n",
              "      <td>-1.229039</td>\n",
              "      <td>1.823260</td>\n",
              "      <td>0.324289</td>\n",
              "      <td>-0.324289</td>\n",
              "      <td>0.612192</td>\n",
              "      <td>-0.612192</td>\n",
              "    </tr>\n",
              "    <tr>\n",
              "      <th>1957</th>\n",
              "      <td>1.171201</td>\n",
              "      <td>-0.682096</td>\n",
              "      <td>-0.585483</td>\n",
              "      <td>0.601571</td>\n",
              "      <td>-1.087224</td>\n",
              "      <td>0.601949</td>\n",
              "      <td>0.061908</td>\n",
              "      <td>-0.450952</td>\n",
              "      <td>0.062199</td>\n",
              "      <td>-0.873266</td>\n",
              "      <td>0.666509</td>\n",
              "      <td>-0.872836</td>\n",
              "      <td>-0.015329</td>\n",
              "      <td>-0.997316</td>\n",
              "      <td>-0.021304</td>\n",
              "      <td>-0.426563</td>\n",
              "      <td>0.324289</td>\n",
              "      <td>-0.324289</td>\n",
              "      <td>0.612192</td>\n",
              "      <td>-0.612192</td>\n",
              "    </tr>\n",
              "    <tr>\n",
              "      <th>2148</th>\n",
              "      <td>-0.109994</td>\n",
              "      <td>-0.682096</td>\n",
              "      <td>-0.585483</td>\n",
              "      <td>-0.661012</td>\n",
              "      <td>0.069247</td>\n",
              "      <td>-0.661069</td>\n",
              "      <td>0.467737</td>\n",
              "      <td>-1.347475</td>\n",
              "      <td>0.467793</td>\n",
              "      <td>0.530781</td>\n",
              "      <td>-0.456947</td>\n",
              "      <td>0.532282</td>\n",
              "      <td>-0.087000</td>\n",
              "      <td>1.042609</td>\n",
              "      <td>-0.087663</td>\n",
              "      <td>-0.426563</td>\n",
              "      <td>0.324289</td>\n",
              "      <td>-0.324289</td>\n",
              "      <td>0.612192</td>\n",
              "      <td>-0.612192</td>\n",
              "    </tr>\n",
              "    <tr>\n",
              "      <th>...</th>\n",
              "      <td>...</td>\n",
              "      <td>...</td>\n",
              "      <td>...</td>\n",
              "      <td>...</td>\n",
              "      <td>...</td>\n",
              "      <td>...</td>\n",
              "      <td>...</td>\n",
              "      <td>...</td>\n",
              "      <td>...</td>\n",
              "      <td>...</td>\n",
              "      <td>...</td>\n",
              "      <td>...</td>\n",
              "      <td>...</td>\n",
              "      <td>...</td>\n",
              "      <td>...</td>\n",
              "      <td>...</td>\n",
              "      <td>...</td>\n",
              "      <td>...</td>\n",
              "      <td>...</td>\n",
              "      <td>...</td>\n",
              "    </tr>\n",
              "    <tr>\n",
              "      <th>3080</th>\n",
              "      <td>-0.461694</td>\n",
              "      <td>-0.515843</td>\n",
              "      <td>-0.585483</td>\n",
              "      <td>-0.818835</td>\n",
              "      <td>0.069247</td>\n",
              "      <td>-0.818677</td>\n",
              "      <td>0.712022</td>\n",
              "      <td>1.093061</td>\n",
              "      <td>0.711150</td>\n",
              "      <td>-1.617509</td>\n",
              "      <td>-0.456947</td>\n",
              "      <td>-1.619032</td>\n",
              "      <td>2.600645</td>\n",
              "      <td>-0.181346</td>\n",
              "      <td>2.606514</td>\n",
              "      <td>-1.176504</td>\n",
              "      <td>0.324289</td>\n",
              "      <td>-0.324289</td>\n",
              "      <td>0.612192</td>\n",
              "      <td>-0.612192</td>\n",
              "    </tr>\n",
              "    <tr>\n",
              "      <th>2548</th>\n",
              "      <td>0.417557</td>\n",
              "      <td>-0.682096</td>\n",
              "      <td>0.945176</td>\n",
              "      <td>-0.492178</td>\n",
              "      <td>0.572061</td>\n",
              "      <td>-0.492667</td>\n",
              "      <td>1.228174</td>\n",
              "      <td>0.495379</td>\n",
              "      <td>1.227993</td>\n",
              "      <td>-1.289571</td>\n",
              "      <td>-0.763344</td>\n",
              "      <td>-1.287389</td>\n",
              "      <td>0.593870</td>\n",
              "      <td>1.042609</td>\n",
              "      <td>0.589199</td>\n",
              "      <td>-0.426563</td>\n",
              "      <td>0.324289</td>\n",
              "      <td>-0.324289</td>\n",
              "      <td>-1.633475</td>\n",
              "      <td>1.633475</td>\n",
              "    </tr>\n",
              "    <tr>\n",
              "      <th>2916</th>\n",
              "      <td>0.090978</td>\n",
              "      <td>-0.515843</td>\n",
              "      <td>-0.585483</td>\n",
              "      <td>-1.218897</td>\n",
              "      <td>-0.684973</td>\n",
              "      <td>-1.219172</td>\n",
              "      <td>-0.834461</td>\n",
              "      <td>-0.102304</td>\n",
              "      <td>-0.834744</td>\n",
              "      <td>-0.254700</td>\n",
              "      <td>-0.661212</td>\n",
              "      <td>-0.253187</td>\n",
              "      <td>0.092176</td>\n",
              "      <td>0.634624</td>\n",
              "      <td>0.098142</td>\n",
              "      <td>0.323378</td>\n",
              "      <td>0.324289</td>\n",
              "      <td>-0.324289</td>\n",
              "      <td>0.612192</td>\n",
              "      <td>-0.612192</td>\n",
              "    </tr>\n",
              "    <tr>\n",
              "      <th>2655</th>\n",
              "      <td>-0.913881</td>\n",
              "      <td>1.740454</td>\n",
              "      <td>-0.585483</td>\n",
              "      <td>0.719021</td>\n",
              "      <td>-1.388912</td>\n",
              "      <td>0.718535</td>\n",
              "      <td>-0.668978</td>\n",
              "      <td>-1.745930</td>\n",
              "      <td>-0.667871</td>\n",
              "      <td>-0.771153</td>\n",
              "      <td>0.972906</td>\n",
              "      <td>-0.772470</td>\n",
              "      <td>-0.087000</td>\n",
              "      <td>0.226639</td>\n",
              "      <td>-0.087663</td>\n",
              "      <td>-0.426563</td>\n",
              "      <td>0.324289</td>\n",
              "      <td>-0.324289</td>\n",
              "      <td>0.612192</td>\n",
              "      <td>-0.612192</td>\n",
              "    </tr>\n",
              "    <tr>\n",
              "      <th>1159</th>\n",
              "      <td>0.693893</td>\n",
              "      <td>-0.515843</td>\n",
              "      <td>-0.585483</td>\n",
              "      <td>-1.407918</td>\n",
              "      <td>1.074874</td>\n",
              "      <td>-1.408085</td>\n",
              "      <td>0.885386</td>\n",
              "      <td>1.142868</td>\n",
              "      <td>0.884976</td>\n",
              "      <td>-0.777045</td>\n",
              "      <td>-0.252682</td>\n",
              "      <td>-0.776834</td>\n",
              "      <td>-1.377069</td>\n",
              "      <td>1.042609</td>\n",
              "      <td>-1.375029</td>\n",
              "      <td>-1.176504</td>\n",
              "      <td>0.324289</td>\n",
              "      <td>-0.324289</td>\n",
              "      <td>0.612192</td>\n",
              "      <td>-0.612192</td>\n",
              "    </tr>\n",
              "  </tbody>\n",
              "</table>\n",
              "<p>1000 rows × 20 columns</p>\n",
              "</div>"
            ],
            "text/plain": [
              "      Account length  Area code  Number vmail messages  Total day minutes  \\\n",
              "438         0.317071   1.740454              -0.585483          -0.459145   \n",
              "2674       -0.838516  -0.515843              -0.585483          -1.301479   \n",
              "1345       -0.059751  -0.515843              -0.585483          -3.303627   \n",
              "1957        1.171201  -0.682096              -0.585483           0.601571   \n",
              "2148       -0.109994  -0.682096              -0.585483          -0.661012   \n",
              "...              ...        ...                    ...                ...   \n",
              "3080       -0.461694  -0.515843              -0.585483          -0.818835   \n",
              "2548        0.417557  -0.682096               0.945176          -0.492178   \n",
              "2916        0.090978  -0.515843              -0.585483          -1.218897   \n",
              "2655       -0.913881   1.740454              -0.585483           0.719021   \n",
              "1159        0.693893  -0.515843              -0.585483          -1.407918   \n",
              "\n",
              "      Total day calls  Total day charge  Total eve minutes  Total eve calls  \\\n",
              "438         -0.383285         -0.459202           2.554012         0.296151   \n",
              "2674         0.823467         -1.301214           0.323924         1.192675   \n",
              "1345        -5.059450         -3.303691          -0.814761         1.491516   \n",
              "1957        -1.087224          0.601949           0.061908        -0.450952   \n",
              "2148         0.069247         -0.661069           0.467737        -1.347475   \n",
              "...               ...               ...                ...              ...   \n",
              "3080         0.069247         -0.818677           0.712022         1.093061   \n",
              "2548         0.572061         -0.492667           1.228174         0.495379   \n",
              "2916        -0.684973         -1.219172          -0.834461        -0.102304   \n",
              "2655        -1.388912          0.718535          -0.668978        -1.745930   \n",
              "1159         1.074874         -1.408085           0.885386         1.142868   \n",
              "\n",
              "      Total eve charge  Total night minutes  Total night calls  \\\n",
              "438           2.553707            -0.221317           1.177171   \n",
              "2674          0.324097            -0.240954           2.096363   \n",
              "1345         -0.813885            -0.659222          -0.610146   \n",
              "1957          0.062199            -0.873266           0.666509   \n",
              "2148          0.467793             0.530781          -0.456947   \n",
              "...                ...                  ...                ...   \n",
              "3080          0.711150            -1.617509          -0.456947   \n",
              "2548          1.227993            -1.289571          -0.763344   \n",
              "2916         -0.834744            -0.254700          -0.661212   \n",
              "2655         -0.667871            -0.771153           0.972906   \n",
              "1159          0.884976            -0.777045          -0.252682   \n",
              "\n",
              "      Total night charge  Total intl minutes  Total intl calls  \\\n",
              "438            -0.222641            1.167234         -0.589331   \n",
              "2674           -0.240096            0.916387          0.634624   \n",
              "1345           -0.659013           -1.233728         -1.405302   \n",
              "1957           -0.872836           -0.015329         -0.997316   \n",
              "2148            0.532282           -0.087000          1.042609   \n",
              "...                  ...                 ...               ...   \n",
              "3080           -1.619032            2.600645         -0.181346   \n",
              "2548           -1.287389            0.593870          1.042609   \n",
              "2916           -0.253187            0.092176          0.634624   \n",
              "2655           -0.772470           -0.087000          0.226639   \n",
              "1159           -0.776834           -1.377069          1.042609   \n",
              "\n",
              "      Total intl charge  Customer service calls  International plan_No  \\\n",
              "438            1.173159               -0.426563               0.324289   \n",
              "2674           0.920994               -1.176504               0.324289   \n",
              "1345          -1.229039                1.823260               0.324289   \n",
              "1957          -0.021304               -0.426563               0.324289   \n",
              "2148          -0.087663               -0.426563               0.324289   \n",
              "...                 ...                     ...                    ...   \n",
              "3080           2.606514               -1.176504               0.324289   \n",
              "2548           0.589199               -0.426563               0.324289   \n",
              "2916           0.098142                0.323378               0.324289   \n",
              "2655          -0.087663               -0.426563               0.324289   \n",
              "1159          -1.375029               -1.176504               0.324289   \n",
              "\n",
              "      International plan_Yes  Voice mail plan_No  Voice mail plan_Yes  \n",
              "438                -0.324289            0.612192            -0.612192  \n",
              "2674               -0.324289            0.612192            -0.612192  \n",
              "1345               -0.324289            0.612192            -0.612192  \n",
              "1957               -0.324289            0.612192            -0.612192  \n",
              "2148               -0.324289            0.612192            -0.612192  \n",
              "...                      ...                 ...                  ...  \n",
              "3080               -0.324289            0.612192            -0.612192  \n",
              "2548               -0.324289           -1.633475             1.633475  \n",
              "2916               -0.324289            0.612192            -0.612192  \n",
              "2655               -0.324289            0.612192            -0.612192  \n",
              "1159               -0.324289            0.612192            -0.612192  \n",
              "\n",
              "[1000 rows x 20 columns]"
            ]
          },
          "execution_count": 13,
          "metadata": {},
          "output_type": "execute_result"
        }
      ],
      "source": [
        "X_test"
      ]
    },
    {
      "cell_type": "markdown",
      "metadata": {
        "id": "253CDINX1TmR"
      },
      "source": [
        "Обучим на тренировочных данных с параметрами по умолчанию:\n",
        "\n",
        "1) логистическую регрессию;\n",
        "\n",
        "2) метод опорных векторов (с kernel='linear')."
      ]
    },
    {
      "cell_type": "code",
      "execution_count": 14,
      "metadata": {
        "id": "GsQW48lf1SxJ"
      },
      "outputs": [
        {
          "data": {
            "text/html": [
              "<style>#sk-container-id-1 {color: black;}#sk-container-id-1 pre{padding: 0;}#sk-container-id-1 div.sk-toggleable {background-color: white;}#sk-container-id-1 label.sk-toggleable__label {cursor: pointer;display: block;width: 100%;margin-bottom: 0;padding: 0.3em;box-sizing: border-box;text-align: center;}#sk-container-id-1 label.sk-toggleable__label-arrow:before {content: \"▸\";float: left;margin-right: 0.25em;color: #696969;}#sk-container-id-1 label.sk-toggleable__label-arrow:hover:before {color: black;}#sk-container-id-1 div.sk-estimator:hover label.sk-toggleable__label-arrow:before {color: black;}#sk-container-id-1 div.sk-toggleable__content {max-height: 0;max-width: 0;overflow: hidden;text-align: left;background-color: #f0f8ff;}#sk-container-id-1 div.sk-toggleable__content pre {margin: 0.2em;color: black;border-radius: 0.25em;background-color: #f0f8ff;}#sk-container-id-1 input.sk-toggleable__control:checked~div.sk-toggleable__content {max-height: 200px;max-width: 100%;overflow: auto;}#sk-container-id-1 input.sk-toggleable__control:checked~label.sk-toggleable__label-arrow:before {content: \"▾\";}#sk-container-id-1 div.sk-estimator input.sk-toggleable__control:checked~label.sk-toggleable__label {background-color: #d4ebff;}#sk-container-id-1 div.sk-label input.sk-toggleable__control:checked~label.sk-toggleable__label {background-color: #d4ebff;}#sk-container-id-1 input.sk-hidden--visually {border: 0;clip: rect(1px 1px 1px 1px);clip: rect(1px, 1px, 1px, 1px);height: 1px;margin: -1px;overflow: hidden;padding: 0;position: absolute;width: 1px;}#sk-container-id-1 div.sk-estimator {font-family: monospace;background-color: #f0f8ff;border: 1px dotted black;border-radius: 0.25em;box-sizing: border-box;margin-bottom: 0.5em;}#sk-container-id-1 div.sk-estimator:hover {background-color: #d4ebff;}#sk-container-id-1 div.sk-parallel-item::after {content: \"\";width: 100%;border-bottom: 1px solid gray;flex-grow: 1;}#sk-container-id-1 div.sk-label:hover label.sk-toggleable__label {background-color: #d4ebff;}#sk-container-id-1 div.sk-serial::before {content: \"\";position: absolute;border-left: 1px solid gray;box-sizing: border-box;top: 0;bottom: 0;left: 50%;z-index: 0;}#sk-container-id-1 div.sk-serial {display: flex;flex-direction: column;align-items: center;background-color: white;padding-right: 0.2em;padding-left: 0.2em;position: relative;}#sk-container-id-1 div.sk-item {position: relative;z-index: 1;}#sk-container-id-1 div.sk-parallel {display: flex;align-items: stretch;justify-content: center;background-color: white;position: relative;}#sk-container-id-1 div.sk-item::before, #sk-container-id-1 div.sk-parallel-item::before {content: \"\";position: absolute;border-left: 1px solid gray;box-sizing: border-box;top: 0;bottom: 0;left: 50%;z-index: -1;}#sk-container-id-1 div.sk-parallel-item {display: flex;flex-direction: column;z-index: 1;position: relative;background-color: white;}#sk-container-id-1 div.sk-parallel-item:first-child::after {align-self: flex-end;width: 50%;}#sk-container-id-1 div.sk-parallel-item:last-child::after {align-self: flex-start;width: 50%;}#sk-container-id-1 div.sk-parallel-item:only-child::after {width: 0;}#sk-container-id-1 div.sk-dashed-wrapped {border: 1px dashed gray;margin: 0 0.4em 0.5em 0.4em;box-sizing: border-box;padding-bottom: 0.4em;background-color: white;}#sk-container-id-1 div.sk-label label {font-family: monospace;font-weight: bold;display: inline-block;line-height: 1.2em;}#sk-container-id-1 div.sk-label-container {text-align: center;}#sk-container-id-1 div.sk-container {/* jupyter's `normalize.less` sets `[hidden] { display: none; }` but bootstrap.min.css set `[hidden] { display: none !important; }` so we also need the `!important` here to be able to override the default hidden behavior on the sphinx rendered scikit-learn.org. See: https://github.com/scikit-learn/scikit-learn/issues/21755 */display: inline-block !important;position: relative;}#sk-container-id-1 div.sk-text-repr-fallback {display: none;}</style><div id=\"sk-container-id-1\" class=\"sk-top-container\"><div class=\"sk-text-repr-fallback\"><pre>LogisticRegression()</pre><b>In a Jupyter environment, please rerun this cell to show the HTML representation or trust the notebook. <br />On GitHub, the HTML representation is unable to render, please try loading this page with nbviewer.org.</b></div><div class=\"sk-container\" hidden><div class=\"sk-item\"><div class=\"sk-estimator sk-toggleable\"><input class=\"sk-toggleable__control sk-hidden--visually\" id=\"sk-estimator-id-1\" type=\"checkbox\" checked><label for=\"sk-estimator-id-1\" class=\"sk-toggleable__label sk-toggleable__label-arrow\">LogisticRegression</label><div class=\"sk-toggleable__content\"><pre>LogisticRegression()</pre></div></div></div></div></div>"
            ],
            "text/plain": [
              "LogisticRegression()"
            ]
          },
          "execution_count": 14,
          "metadata": {},
          "output_type": "execute_result"
        }
      ],
      "source": [
        "logreg = LogisticRegression()\n",
        "logreg.fit(X_train, y_train)"
      ]
    },
    {
      "cell_type": "code",
      "execution_count": 15,
      "metadata": {},
      "outputs": [
        {
          "data": {
            "text/html": [
              "<style>#sk-container-id-2 {color: black;}#sk-container-id-2 pre{padding: 0;}#sk-container-id-2 div.sk-toggleable {background-color: white;}#sk-container-id-2 label.sk-toggleable__label {cursor: pointer;display: block;width: 100%;margin-bottom: 0;padding: 0.3em;box-sizing: border-box;text-align: center;}#sk-container-id-2 label.sk-toggleable__label-arrow:before {content: \"▸\";float: left;margin-right: 0.25em;color: #696969;}#sk-container-id-2 label.sk-toggleable__label-arrow:hover:before {color: black;}#sk-container-id-2 div.sk-estimator:hover label.sk-toggleable__label-arrow:before {color: black;}#sk-container-id-2 div.sk-toggleable__content {max-height: 0;max-width: 0;overflow: hidden;text-align: left;background-color: #f0f8ff;}#sk-container-id-2 div.sk-toggleable__content pre {margin: 0.2em;color: black;border-radius: 0.25em;background-color: #f0f8ff;}#sk-container-id-2 input.sk-toggleable__control:checked~div.sk-toggleable__content {max-height: 200px;max-width: 100%;overflow: auto;}#sk-container-id-2 input.sk-toggleable__control:checked~label.sk-toggleable__label-arrow:before {content: \"▾\";}#sk-container-id-2 div.sk-estimator input.sk-toggleable__control:checked~label.sk-toggleable__label {background-color: #d4ebff;}#sk-container-id-2 div.sk-label input.sk-toggleable__control:checked~label.sk-toggleable__label {background-color: #d4ebff;}#sk-container-id-2 input.sk-hidden--visually {border: 0;clip: rect(1px 1px 1px 1px);clip: rect(1px, 1px, 1px, 1px);height: 1px;margin: -1px;overflow: hidden;padding: 0;position: absolute;width: 1px;}#sk-container-id-2 div.sk-estimator {font-family: monospace;background-color: #f0f8ff;border: 1px dotted black;border-radius: 0.25em;box-sizing: border-box;margin-bottom: 0.5em;}#sk-container-id-2 div.sk-estimator:hover {background-color: #d4ebff;}#sk-container-id-2 div.sk-parallel-item::after {content: \"\";width: 100%;border-bottom: 1px solid gray;flex-grow: 1;}#sk-container-id-2 div.sk-label:hover label.sk-toggleable__label {background-color: #d4ebff;}#sk-container-id-2 div.sk-serial::before {content: \"\";position: absolute;border-left: 1px solid gray;box-sizing: border-box;top: 0;bottom: 0;left: 50%;z-index: 0;}#sk-container-id-2 div.sk-serial {display: flex;flex-direction: column;align-items: center;background-color: white;padding-right: 0.2em;padding-left: 0.2em;position: relative;}#sk-container-id-2 div.sk-item {position: relative;z-index: 1;}#sk-container-id-2 div.sk-parallel {display: flex;align-items: stretch;justify-content: center;background-color: white;position: relative;}#sk-container-id-2 div.sk-item::before, #sk-container-id-2 div.sk-parallel-item::before {content: \"\";position: absolute;border-left: 1px solid gray;box-sizing: border-box;top: 0;bottom: 0;left: 50%;z-index: -1;}#sk-container-id-2 div.sk-parallel-item {display: flex;flex-direction: column;z-index: 1;position: relative;background-color: white;}#sk-container-id-2 div.sk-parallel-item:first-child::after {align-self: flex-end;width: 50%;}#sk-container-id-2 div.sk-parallel-item:last-child::after {align-self: flex-start;width: 50%;}#sk-container-id-2 div.sk-parallel-item:only-child::after {width: 0;}#sk-container-id-2 div.sk-dashed-wrapped {border: 1px dashed gray;margin: 0 0.4em 0.5em 0.4em;box-sizing: border-box;padding-bottom: 0.4em;background-color: white;}#sk-container-id-2 div.sk-label label {font-family: monospace;font-weight: bold;display: inline-block;line-height: 1.2em;}#sk-container-id-2 div.sk-label-container {text-align: center;}#sk-container-id-2 div.sk-container {/* jupyter's `normalize.less` sets `[hidden] { display: none; }` but bootstrap.min.css set `[hidden] { display: none !important; }` so we also need the `!important` here to be able to override the default hidden behavior on the sphinx rendered scikit-learn.org. See: https://github.com/scikit-learn/scikit-learn/issues/21755 */display: inline-block !important;position: relative;}#sk-container-id-2 div.sk-text-repr-fallback {display: none;}</style><div id=\"sk-container-id-2\" class=\"sk-top-container\"><div class=\"sk-text-repr-fallback\"><pre>SVC(kernel=&#x27;linear&#x27;, probability=True)</pre><b>In a Jupyter environment, please rerun this cell to show the HTML representation or trust the notebook. <br />On GitHub, the HTML representation is unable to render, please try loading this page with nbviewer.org.</b></div><div class=\"sk-container\" hidden><div class=\"sk-item\"><div class=\"sk-estimator sk-toggleable\"><input class=\"sk-toggleable__control sk-hidden--visually\" id=\"sk-estimator-id-2\" type=\"checkbox\" checked><label for=\"sk-estimator-id-2\" class=\"sk-toggleable__label sk-toggleable__label-arrow\">SVC</label><div class=\"sk-toggleable__content\"><pre>SVC(kernel=&#x27;linear&#x27;, probability=True)</pre></div></div></div></div></div>"
            ],
            "text/plain": [
              "SVC(kernel='linear', probability=True)"
            ]
          },
          "execution_count": 15,
          "metadata": {},
          "output_type": "execute_result"
        }
      ],
      "source": [
        "SVC_model = SVC(kernel='linear', probability=True)\n",
        "SVC_model.fit(X_train, y_train)"
      ]
    },
    {
      "cell_type": "markdown",
      "metadata": {
        "id": "HZszTXSb110B"
      },
      "source": [
        "С помощью обученных моделей сделаем предсказание на тестовых данных. Вычислим значение метрики roc-auc на тесте."
      ]
    },
    {
      "cell_type": "code",
      "execution_count": 16,
      "metadata": {
        "id": "W9IUlgV011PP"
      },
      "outputs": [
        {
          "name": "stdout",
          "output_type": "stream",
          "text": [
            "метрика roc-auc для LogisticRegression: 0.8283\n",
            "метрика roc-auc для SVC: 0.7672\n"
          ]
        }
      ],
      "source": [
        "pred_logreg = logreg.predict_proba(X_test)[:, 1]\n",
        "pred_SVC = SVC_model.predict_proba(X_test)[:, 1]\n",
        "\n",
        "print(f'метрика roc-auc для LogisticRegression: {roc_auc_score(y_test, pred_logreg).round(4)}')\n",
        "print(f'метрика roc-auc для SVC: {roc_auc_score(y_test, pred_SVC).round(4)}')"
      ]
    },
    {
      "cell_type": "markdown",
      "metadata": {
        "id": "mVgXsdO02iVG"
      },
      "source": [
        "Теперь обучим решающее дерево с параметрами по умолчанию на тренировочных данных, сделаем предсказание на тесте и вычислите на тесте roc-auc."
      ]
    },
    {
      "cell_type": "code",
      "execution_count": 17,
      "metadata": {
        "id": "yc822SQa2Zsc"
      },
      "outputs": [
        {
          "name": "stdout",
          "output_type": "stream",
          "text": [
            "метрика roc-auc для DecisionTreeClassifier: 0.845\n"
          ]
        }
      ],
      "source": [
        "dtclf_model = DecisionTreeClassifier()\n",
        "\n",
        "dtclf_model.fit(X_train, y_train)\n",
        "\n",
        "pred_dtclf = dtclf_model.predict_proba(X_test)[:,1]\n",
        "\n",
        "print(f'метрика roc-auc для DecisionTreeClassifier: {roc_auc_score(y_test, pred_dtclf).round(4)}')"
      ]
    },
    {
      "cell_type": "markdown",
      "metadata": {
        "id": "wNSwPGPl22zf"
      },
      "source": [
        "Нужно ли масшабировать признаки для обучения решающего дерева? Проверим это, заново разбив данные на тренировочную и тестовую части, и проведем обучение, предсказание и оценку метрики до масштабирования и после."
      ]
    },
    {
      "cell_type": "code",
      "execution_count": 18,
      "metadata": {
        "id": "t0tjFrP02yIR"
      },
      "outputs": [],
      "source": [
        "Xtrain, Xtest, ytrain, ytest = train_test_split(X, y, test_size=0.3, random_state=42)"
      ]
    },
    {
      "cell_type": "code",
      "execution_count": 19,
      "metadata": {},
      "outputs": [
        {
          "name": "stdout",
          "output_type": "stream",
          "text": [
            "метрика roc-auc для DecisionTreeClassifier до маштабирования: 0.8362\n"
          ]
        }
      ],
      "source": [
        "dtclf = DecisionTreeClassifier(random_state=42)\n",
        "\n",
        "dtclf.fit(Xtrain, ytrain)\n",
        "pred_dtclf = dtclf.predict_proba(Xtest)[:,1]\n",
        "print(f'метрика roc-auc для DecisionTreeClassifier до маштабирования: {roc_auc_score(ytest, pred_dtclf).round(4)}')"
      ]
    },
    {
      "cell_type": "code",
      "execution_count": 20,
      "metadata": {},
      "outputs": [],
      "source": [
        "# проведем маштабирование\n",
        "\n",
        "scaler = StandardScaler()\n",
        "\n",
        "scaler.fit(Xtrain.values)\n",
        "\n",
        "Xtrain[Xtrain.columns.to_list()] = scaler.transform(Xtrain.values)\n",
        "Xtest[Xtest.columns.to_list()] = scaler.transform(Xtest.values)"
      ]
    },
    {
      "cell_type": "code",
      "execution_count": 21,
      "metadata": {},
      "outputs": [
        {
          "name": "stdout",
          "output_type": "stream",
          "text": [
            "метрика roc-auc для DecisionTreeClassifier после маштабирования: 0.8362\n"
          ]
        }
      ],
      "source": [
        "dtclf.fit(Xtrain, ytrain)\n",
        "pred_dtclf_std = dtclf.predict_proba(Xtest)[:,1]\n",
        "print(f'метрика roc-auc для DecisionTreeClassifier после маштабирования: {roc_auc_score(ytest, pred_dtclf_std).round(4)}')"
      ]
    },
    {
      "cell_type": "markdown",
      "metadata": {},
      "source": [
        "***Вывод: маштабировнание признаков не влияет на модель***"
      ]
    },
    {
      "cell_type": "markdown",
      "metadata": {
        "id": "Bof-nFO-3pp7"
      },
      "source": [
        "Теперь наша цель — максимально улучшить модели. Для этого:\n",
        "\n",
        "1) у линейных моделей подберем гиперпараметр С (переберите 20 значений C в диапазоне от 0.1 до 10 с равным шагом);\n",
        "\n",
        "2) у решающего дерева подберем max_depth (переберите глубину от 1 до 10 с шагом 1) и criterion — gini или entropy.\n",
        "\n",
        "Для подбора параметров используем GridSearchCV с пятью фолдами и метрикой roc-auc или обычные циклы."
      ]
    },
    {
      "cell_type": "markdown",
      "metadata": {
        "id": "fOpaM-hq44uW"
      },
      "source": [
        "После подбора гиперпараметров обучим модели с найденными гиперпараметрами на тренировочных данных, сделаем предсказания на тесте и оценим их качество (roc_auc)."
      ]
    },
    {
      "cell_type": "markdown",
      "metadata": {},
      "source": [
        "**Улучшение модели LogisticRegression**"
      ]
    },
    {
      "cell_type": "code",
      "execution_count": 23,
      "metadata": {},
      "outputs": [],
      "source": [
        "logreg = LogisticRegression(random_state=42)\n",
        "\n",
        "logreg_grid = {'C': np.arange(0.1, 10, 0.5)}\n",
        "\n",
        "grid_search_logreg = GridSearchCV(\n",
        "    estimator=logreg,\n",
        "    param_grid=logreg_grid,\n",
        "    cv=5,\n",
        "    scoring='roc_auc',\n",
        "    verbose=10,\n",
        "    n_jobs=-1)"
      ]
    },
    {
      "cell_type": "code",
      "execution_count": 24,
      "metadata": {},
      "outputs": [
        {
          "name": "stdout",
          "output_type": "stream",
          "text": [
            "Fitting 5 folds for each of 20 candidates, totalling 100 fits\n"
          ]
        },
        {
          "data": {
            "text/html": [
              "<style>#sk-container-id-3 {color: black;}#sk-container-id-3 pre{padding: 0;}#sk-container-id-3 div.sk-toggleable {background-color: white;}#sk-container-id-3 label.sk-toggleable__label {cursor: pointer;display: block;width: 100%;margin-bottom: 0;padding: 0.3em;box-sizing: border-box;text-align: center;}#sk-container-id-3 label.sk-toggleable__label-arrow:before {content: \"▸\";float: left;margin-right: 0.25em;color: #696969;}#sk-container-id-3 label.sk-toggleable__label-arrow:hover:before {color: black;}#sk-container-id-3 div.sk-estimator:hover label.sk-toggleable__label-arrow:before {color: black;}#sk-container-id-3 div.sk-toggleable__content {max-height: 0;max-width: 0;overflow: hidden;text-align: left;background-color: #f0f8ff;}#sk-container-id-3 div.sk-toggleable__content pre {margin: 0.2em;color: black;border-radius: 0.25em;background-color: #f0f8ff;}#sk-container-id-3 input.sk-toggleable__control:checked~div.sk-toggleable__content {max-height: 200px;max-width: 100%;overflow: auto;}#sk-container-id-3 input.sk-toggleable__control:checked~label.sk-toggleable__label-arrow:before {content: \"▾\";}#sk-container-id-3 div.sk-estimator input.sk-toggleable__control:checked~label.sk-toggleable__label {background-color: #d4ebff;}#sk-container-id-3 div.sk-label input.sk-toggleable__control:checked~label.sk-toggleable__label {background-color: #d4ebff;}#sk-container-id-3 input.sk-hidden--visually {border: 0;clip: rect(1px 1px 1px 1px);clip: rect(1px, 1px, 1px, 1px);height: 1px;margin: -1px;overflow: hidden;padding: 0;position: absolute;width: 1px;}#sk-container-id-3 div.sk-estimator {font-family: monospace;background-color: #f0f8ff;border: 1px dotted black;border-radius: 0.25em;box-sizing: border-box;margin-bottom: 0.5em;}#sk-container-id-3 div.sk-estimator:hover {background-color: #d4ebff;}#sk-container-id-3 div.sk-parallel-item::after {content: \"\";width: 100%;border-bottom: 1px solid gray;flex-grow: 1;}#sk-container-id-3 div.sk-label:hover label.sk-toggleable__label {background-color: #d4ebff;}#sk-container-id-3 div.sk-serial::before {content: \"\";position: absolute;border-left: 1px solid gray;box-sizing: border-box;top: 0;bottom: 0;left: 50%;z-index: 0;}#sk-container-id-3 div.sk-serial {display: flex;flex-direction: column;align-items: center;background-color: white;padding-right: 0.2em;padding-left: 0.2em;position: relative;}#sk-container-id-3 div.sk-item {position: relative;z-index: 1;}#sk-container-id-3 div.sk-parallel {display: flex;align-items: stretch;justify-content: center;background-color: white;position: relative;}#sk-container-id-3 div.sk-item::before, #sk-container-id-3 div.sk-parallel-item::before {content: \"\";position: absolute;border-left: 1px solid gray;box-sizing: border-box;top: 0;bottom: 0;left: 50%;z-index: -1;}#sk-container-id-3 div.sk-parallel-item {display: flex;flex-direction: column;z-index: 1;position: relative;background-color: white;}#sk-container-id-3 div.sk-parallel-item:first-child::after {align-self: flex-end;width: 50%;}#sk-container-id-3 div.sk-parallel-item:last-child::after {align-self: flex-start;width: 50%;}#sk-container-id-3 div.sk-parallel-item:only-child::after {width: 0;}#sk-container-id-3 div.sk-dashed-wrapped {border: 1px dashed gray;margin: 0 0.4em 0.5em 0.4em;box-sizing: border-box;padding-bottom: 0.4em;background-color: white;}#sk-container-id-3 div.sk-label label {font-family: monospace;font-weight: bold;display: inline-block;line-height: 1.2em;}#sk-container-id-3 div.sk-label-container {text-align: center;}#sk-container-id-3 div.sk-container {/* jupyter's `normalize.less` sets `[hidden] { display: none; }` but bootstrap.min.css set `[hidden] { display: none !important; }` so we also need the `!important` here to be able to override the default hidden behavior on the sphinx rendered scikit-learn.org. See: https://github.com/scikit-learn/scikit-learn/issues/21755 */display: inline-block !important;position: relative;}#sk-container-id-3 div.sk-text-repr-fallback {display: none;}</style><div id=\"sk-container-id-3\" class=\"sk-top-container\"><div class=\"sk-text-repr-fallback\"><pre>GridSearchCV(cv=5, estimator=LogisticRegression(random_state=42), n_jobs=-1,\n",
              "             param_grid={&#x27;C&#x27;: array([0.1, 0.6, 1.1, 1.6, 2.1, 2.6, 3.1, 3.6, 4.1, 4.6, 5.1, 5.6, 6.1,\n",
              "       6.6, 7.1, 7.6, 8.1, 8.6, 9.1, 9.6])},\n",
              "             scoring=&#x27;roc_auc&#x27;, verbose=10)</pre><b>In a Jupyter environment, please rerun this cell to show the HTML representation or trust the notebook. <br />On GitHub, the HTML representation is unable to render, please try loading this page with nbviewer.org.</b></div><div class=\"sk-container\" hidden><div class=\"sk-item sk-dashed-wrapped\"><div class=\"sk-label-container\"><div class=\"sk-label sk-toggleable\"><input class=\"sk-toggleable__control sk-hidden--visually\" id=\"sk-estimator-id-3\" type=\"checkbox\" ><label for=\"sk-estimator-id-3\" class=\"sk-toggleable__label sk-toggleable__label-arrow\">GridSearchCV</label><div class=\"sk-toggleable__content\"><pre>GridSearchCV(cv=5, estimator=LogisticRegression(random_state=42), n_jobs=-1,\n",
              "             param_grid={&#x27;C&#x27;: array([0.1, 0.6, 1.1, 1.6, 2.1, 2.6, 3.1, 3.6, 4.1, 4.6, 5.1, 5.6, 6.1,\n",
              "       6.6, 7.1, 7.6, 8.1, 8.6, 9.1, 9.6])},\n",
              "             scoring=&#x27;roc_auc&#x27;, verbose=10)</pre></div></div></div><div class=\"sk-parallel\"><div class=\"sk-parallel-item\"><div class=\"sk-item\"><div class=\"sk-label-container\"><div class=\"sk-label sk-toggleable\"><input class=\"sk-toggleable__control sk-hidden--visually\" id=\"sk-estimator-id-4\" type=\"checkbox\" ><label for=\"sk-estimator-id-4\" class=\"sk-toggleable__label sk-toggleable__label-arrow\">estimator: LogisticRegression</label><div class=\"sk-toggleable__content\"><pre>LogisticRegression(random_state=42)</pre></div></div></div><div class=\"sk-serial\"><div class=\"sk-item\"><div class=\"sk-estimator sk-toggleable\"><input class=\"sk-toggleable__control sk-hidden--visually\" id=\"sk-estimator-id-5\" type=\"checkbox\" ><label for=\"sk-estimator-id-5\" class=\"sk-toggleable__label sk-toggleable__label-arrow\">LogisticRegression</label><div class=\"sk-toggleable__content\"><pre>LogisticRegression(random_state=42)</pre></div></div></div></div></div></div></div></div></div></div>"
            ],
            "text/plain": [
              "GridSearchCV(cv=5, estimator=LogisticRegression(random_state=42), n_jobs=-1,\n",
              "             param_grid={'C': array([0.1, 0.6, 1.1, 1.6, 2.1, 2.6, 3.1, 3.6, 4.1, 4.6, 5.1, 5.6, 6.1,\n",
              "       6.6, 7.1, 7.6, 8.1, 8.6, 9.1, 9.6])},\n",
              "             scoring='roc_auc', verbose=10)"
            ]
          },
          "execution_count": 24,
          "metadata": {},
          "output_type": "execute_result"
        }
      ],
      "source": [
        "grid_search_logreg.fit(X_train, y_train)"
      ]
    },
    {
      "cell_type": "code",
      "execution_count": 25,
      "metadata": {},
      "outputs": [
        {
          "name": "stdout",
          "output_type": "stream",
          "text": [
            "Лучший параметр \"C\" модели LogisticRegression: 1.6\n"
          ]
        }
      ],
      "source": [
        "best_params_logreg = grid_search_logreg.best_params_\n",
        "C_best_logreg = list(best_params_logreg.values())[0]\n",
        "print('Лучший параметр \"C\" модели LogisticRegression:', C_best_logreg)"
      ]
    },
    {
      "cell_type": "code",
      "execution_count": 26,
      "metadata": {},
      "outputs": [
        {
          "name": "stdout",
          "output_type": "stream",
          "text": [
            "метрика roc_auc LogisticRegression: 0.8284\n"
          ]
        }
      ],
      "source": [
        "logreg_best = LogisticRegression(C=C_best_logreg, random_state=42)\n",
        "logreg_best.fit(X_train, y_train)\n",
        "pred_logreg_best = logreg_best.predict_proba(X_test)[:, 1]\n",
        "\n",
        "print(f'метрика roc_auc LogisticRegression: {roc_auc_score(y_test, pred_logreg_best).round(4)}')\n",
        "roc_auc_logreg = {'LogisticRegression': roc_auc_score(y_test, pred_logreg_best).round(4)}"
      ]
    },
    {
      "cell_type": "markdown",
      "metadata": {},
      "source": [
        "**Улучшение модели SVC**"
      ]
    },
    {
      "cell_type": "code",
      "execution_count": 27,
      "metadata": {},
      "outputs": [],
      "source": [
        "SVC_model = SVC(random_state=42)\n",
        "\n",
        "SVC_grid = {'kernel': ['linear'], 'C': np.arange(0.1, 10, 0.5)}\n",
        "    \n",
        "grid_search_SVC = GridSearchCV(\n",
        "    estimator=SVC_model,\n",
        "    param_grid=SVC_grid,\n",
        "    cv=5,\n",
        "    scoring='roc_auc',\n",
        "    verbose=10,\n",
        "    n_jobs=-1)"
      ]
    },
    {
      "cell_type": "code",
      "execution_count": 28,
      "metadata": {},
      "outputs": [
        {
          "name": "stdout",
          "output_type": "stream",
          "text": [
            "Fitting 5 folds for each of 20 candidates, totalling 100 fits\n"
          ]
        },
        {
          "name": "stdout",
          "output_type": "stream",
          "text": [
            "CPU times: total: 672 ms\n",
            "Wall time: 15 s\n"
          ]
        },
        {
          "data": {
            "text/html": [
              "<style>#sk-container-id-4 {color: black;}#sk-container-id-4 pre{padding: 0;}#sk-container-id-4 div.sk-toggleable {background-color: white;}#sk-container-id-4 label.sk-toggleable__label {cursor: pointer;display: block;width: 100%;margin-bottom: 0;padding: 0.3em;box-sizing: border-box;text-align: center;}#sk-container-id-4 label.sk-toggleable__label-arrow:before {content: \"▸\";float: left;margin-right: 0.25em;color: #696969;}#sk-container-id-4 label.sk-toggleable__label-arrow:hover:before {color: black;}#sk-container-id-4 div.sk-estimator:hover label.sk-toggleable__label-arrow:before {color: black;}#sk-container-id-4 div.sk-toggleable__content {max-height: 0;max-width: 0;overflow: hidden;text-align: left;background-color: #f0f8ff;}#sk-container-id-4 div.sk-toggleable__content pre {margin: 0.2em;color: black;border-radius: 0.25em;background-color: #f0f8ff;}#sk-container-id-4 input.sk-toggleable__control:checked~div.sk-toggleable__content {max-height: 200px;max-width: 100%;overflow: auto;}#sk-container-id-4 input.sk-toggleable__control:checked~label.sk-toggleable__label-arrow:before {content: \"▾\";}#sk-container-id-4 div.sk-estimator input.sk-toggleable__control:checked~label.sk-toggleable__label {background-color: #d4ebff;}#sk-container-id-4 div.sk-label input.sk-toggleable__control:checked~label.sk-toggleable__label {background-color: #d4ebff;}#sk-container-id-4 input.sk-hidden--visually {border: 0;clip: rect(1px 1px 1px 1px);clip: rect(1px, 1px, 1px, 1px);height: 1px;margin: -1px;overflow: hidden;padding: 0;position: absolute;width: 1px;}#sk-container-id-4 div.sk-estimator {font-family: monospace;background-color: #f0f8ff;border: 1px dotted black;border-radius: 0.25em;box-sizing: border-box;margin-bottom: 0.5em;}#sk-container-id-4 div.sk-estimator:hover {background-color: #d4ebff;}#sk-container-id-4 div.sk-parallel-item::after {content: \"\";width: 100%;border-bottom: 1px solid gray;flex-grow: 1;}#sk-container-id-4 div.sk-label:hover label.sk-toggleable__label {background-color: #d4ebff;}#sk-container-id-4 div.sk-serial::before {content: \"\";position: absolute;border-left: 1px solid gray;box-sizing: border-box;top: 0;bottom: 0;left: 50%;z-index: 0;}#sk-container-id-4 div.sk-serial {display: flex;flex-direction: column;align-items: center;background-color: white;padding-right: 0.2em;padding-left: 0.2em;position: relative;}#sk-container-id-4 div.sk-item {position: relative;z-index: 1;}#sk-container-id-4 div.sk-parallel {display: flex;align-items: stretch;justify-content: center;background-color: white;position: relative;}#sk-container-id-4 div.sk-item::before, #sk-container-id-4 div.sk-parallel-item::before {content: \"\";position: absolute;border-left: 1px solid gray;box-sizing: border-box;top: 0;bottom: 0;left: 50%;z-index: -1;}#sk-container-id-4 div.sk-parallel-item {display: flex;flex-direction: column;z-index: 1;position: relative;background-color: white;}#sk-container-id-4 div.sk-parallel-item:first-child::after {align-self: flex-end;width: 50%;}#sk-container-id-4 div.sk-parallel-item:last-child::after {align-self: flex-start;width: 50%;}#sk-container-id-4 div.sk-parallel-item:only-child::after {width: 0;}#sk-container-id-4 div.sk-dashed-wrapped {border: 1px dashed gray;margin: 0 0.4em 0.5em 0.4em;box-sizing: border-box;padding-bottom: 0.4em;background-color: white;}#sk-container-id-4 div.sk-label label {font-family: monospace;font-weight: bold;display: inline-block;line-height: 1.2em;}#sk-container-id-4 div.sk-label-container {text-align: center;}#sk-container-id-4 div.sk-container {/* jupyter's `normalize.less` sets `[hidden] { display: none; }` but bootstrap.min.css set `[hidden] { display: none !important; }` so we also need the `!important` here to be able to override the default hidden behavior on the sphinx rendered scikit-learn.org. See: https://github.com/scikit-learn/scikit-learn/issues/21755 */display: inline-block !important;position: relative;}#sk-container-id-4 div.sk-text-repr-fallback {display: none;}</style><div id=\"sk-container-id-4\" class=\"sk-top-container\"><div class=\"sk-text-repr-fallback\"><pre>GridSearchCV(cv=5, estimator=SVC(random_state=42), n_jobs=-1,\n",
              "             param_grid={&#x27;C&#x27;: array([0.1, 0.6, 1.1, 1.6, 2.1, 2.6, 3.1, 3.6, 4.1, 4.6, 5.1, 5.6, 6.1,\n",
              "       6.6, 7.1, 7.6, 8.1, 8.6, 9.1, 9.6]),\n",
              "                         &#x27;kernel&#x27;: [&#x27;linear&#x27;]},\n",
              "             scoring=&#x27;roc_auc&#x27;, verbose=10)</pre><b>In a Jupyter environment, please rerun this cell to show the HTML representation or trust the notebook. <br />On GitHub, the HTML representation is unable to render, please try loading this page with nbviewer.org.</b></div><div class=\"sk-container\" hidden><div class=\"sk-item sk-dashed-wrapped\"><div class=\"sk-label-container\"><div class=\"sk-label sk-toggleable\"><input class=\"sk-toggleable__control sk-hidden--visually\" id=\"sk-estimator-id-6\" type=\"checkbox\" ><label for=\"sk-estimator-id-6\" class=\"sk-toggleable__label sk-toggleable__label-arrow\">GridSearchCV</label><div class=\"sk-toggleable__content\"><pre>GridSearchCV(cv=5, estimator=SVC(random_state=42), n_jobs=-1,\n",
              "             param_grid={&#x27;C&#x27;: array([0.1, 0.6, 1.1, 1.6, 2.1, 2.6, 3.1, 3.6, 4.1, 4.6, 5.1, 5.6, 6.1,\n",
              "       6.6, 7.1, 7.6, 8.1, 8.6, 9.1, 9.6]),\n",
              "                         &#x27;kernel&#x27;: [&#x27;linear&#x27;]},\n",
              "             scoring=&#x27;roc_auc&#x27;, verbose=10)</pre></div></div></div><div class=\"sk-parallel\"><div class=\"sk-parallel-item\"><div class=\"sk-item\"><div class=\"sk-label-container\"><div class=\"sk-label sk-toggleable\"><input class=\"sk-toggleable__control sk-hidden--visually\" id=\"sk-estimator-id-7\" type=\"checkbox\" ><label for=\"sk-estimator-id-7\" class=\"sk-toggleable__label sk-toggleable__label-arrow\">estimator: SVC</label><div class=\"sk-toggleable__content\"><pre>SVC(random_state=42)</pre></div></div></div><div class=\"sk-serial\"><div class=\"sk-item\"><div class=\"sk-estimator sk-toggleable\"><input class=\"sk-toggleable__control sk-hidden--visually\" id=\"sk-estimator-id-8\" type=\"checkbox\" ><label for=\"sk-estimator-id-8\" class=\"sk-toggleable__label sk-toggleable__label-arrow\">SVC</label><div class=\"sk-toggleable__content\"><pre>SVC(random_state=42)</pre></div></div></div></div></div></div></div></div></div></div>"
            ],
            "text/plain": [
              "GridSearchCV(cv=5, estimator=SVC(random_state=42), n_jobs=-1,\n",
              "             param_grid={'C': array([0.1, 0.6, 1.1, 1.6, 2.1, 2.6, 3.1, 3.6, 4.1, 4.6, 5.1, 5.6, 6.1,\n",
              "       6.6, 7.1, 7.6, 8.1, 8.6, 9.1, 9.6]),\n",
              "                         'kernel': ['linear']},\n",
              "             scoring='roc_auc', verbose=10)"
            ]
          },
          "execution_count": 28,
          "metadata": {},
          "output_type": "execute_result"
        }
      ],
      "source": [
        "%%time\n",
        "grid_search_SVC.fit(X_train, y_train)"
      ]
    },
    {
      "cell_type": "code",
      "execution_count": 29,
      "metadata": {},
      "outputs": [
        {
          "name": "stdout",
          "output_type": "stream",
          "text": [
            "Лучший параметр \"C\" модели SVC: 0.1\n"
          ]
        }
      ],
      "source": [
        "best_params_SVC = grid_search_SVC.best_params_\n",
        "C_best_SVC = list(best_params_SVC.values())[0]\n",
        "print('Лучший параметр \"C\" модели SVC:', C_best_SVC)"
      ]
    },
    {
      "cell_type": "code",
      "execution_count": 30,
      "metadata": {},
      "outputs": [
        {
          "name": "stdout",
          "output_type": "stream",
          "text": [
            "метрика roc_auc SVC: 0.6826\n"
          ]
        }
      ],
      "source": [
        "SVC_best = SVC(C=C_best_SVC, probability=True, kernel='linear', random_state=42)\n",
        "SVC_best.fit(X_train, y_train)\n",
        "pred_SVC_best = SVC_best.predict_proba(X_test)[:, 1]\n",
        "\n",
        "print(f'метрика roc_auc SVC: {roc_auc_score(y_test, pred_SVC_best).round(4)}')\n",
        "roc_auc_SVC = {'SVC': roc_auc_score(y_test, pred_SVC_best).round(4)}"
      ]
    },
    {
      "cell_type": "markdown",
      "metadata": {},
      "source": [
        "**Улучшение модели DecisionTreeClassifier**"
      ]
    },
    {
      "cell_type": "code",
      "execution_count": 31,
      "metadata": {},
      "outputs": [],
      "source": [
        "dtclf = DecisionTreeClassifier(random_state=42)\n",
        "\n",
        "dtclf_grid = {'max_depth': np.arange(1, 11, 1), 'criterion': ['gini', 'entropy']}\n",
        "\n",
        "grid_search_dtclf = GridSearchCV(\n",
        "    estimator=dtclf,\n",
        "    param_grid=dtclf_grid,\n",
        "    cv=5,\n",
        "    scoring='roc_auc',\n",
        "    verbose=10,\n",
        "    n_jobs=-1)"
      ]
    },
    {
      "cell_type": "code",
      "execution_count": 32,
      "metadata": {},
      "outputs": [
        {
          "name": "stdout",
          "output_type": "stream",
          "text": [
            "Fitting 5 folds for each of 20 candidates, totalling 100 fits\n"
          ]
        },
        {
          "data": {
            "text/html": [
              "<style>#sk-container-id-5 {color: black;}#sk-container-id-5 pre{padding: 0;}#sk-container-id-5 div.sk-toggleable {background-color: white;}#sk-container-id-5 label.sk-toggleable__label {cursor: pointer;display: block;width: 100%;margin-bottom: 0;padding: 0.3em;box-sizing: border-box;text-align: center;}#sk-container-id-5 label.sk-toggleable__label-arrow:before {content: \"▸\";float: left;margin-right: 0.25em;color: #696969;}#sk-container-id-5 label.sk-toggleable__label-arrow:hover:before {color: black;}#sk-container-id-5 div.sk-estimator:hover label.sk-toggleable__label-arrow:before {color: black;}#sk-container-id-5 div.sk-toggleable__content {max-height: 0;max-width: 0;overflow: hidden;text-align: left;background-color: #f0f8ff;}#sk-container-id-5 div.sk-toggleable__content pre {margin: 0.2em;color: black;border-radius: 0.25em;background-color: #f0f8ff;}#sk-container-id-5 input.sk-toggleable__control:checked~div.sk-toggleable__content {max-height: 200px;max-width: 100%;overflow: auto;}#sk-container-id-5 input.sk-toggleable__control:checked~label.sk-toggleable__label-arrow:before {content: \"▾\";}#sk-container-id-5 div.sk-estimator input.sk-toggleable__control:checked~label.sk-toggleable__label {background-color: #d4ebff;}#sk-container-id-5 div.sk-label input.sk-toggleable__control:checked~label.sk-toggleable__label {background-color: #d4ebff;}#sk-container-id-5 input.sk-hidden--visually {border: 0;clip: rect(1px 1px 1px 1px);clip: rect(1px, 1px, 1px, 1px);height: 1px;margin: -1px;overflow: hidden;padding: 0;position: absolute;width: 1px;}#sk-container-id-5 div.sk-estimator {font-family: monospace;background-color: #f0f8ff;border: 1px dotted black;border-radius: 0.25em;box-sizing: border-box;margin-bottom: 0.5em;}#sk-container-id-5 div.sk-estimator:hover {background-color: #d4ebff;}#sk-container-id-5 div.sk-parallel-item::after {content: \"\";width: 100%;border-bottom: 1px solid gray;flex-grow: 1;}#sk-container-id-5 div.sk-label:hover label.sk-toggleable__label {background-color: #d4ebff;}#sk-container-id-5 div.sk-serial::before {content: \"\";position: absolute;border-left: 1px solid gray;box-sizing: border-box;top: 0;bottom: 0;left: 50%;z-index: 0;}#sk-container-id-5 div.sk-serial {display: flex;flex-direction: column;align-items: center;background-color: white;padding-right: 0.2em;padding-left: 0.2em;position: relative;}#sk-container-id-5 div.sk-item {position: relative;z-index: 1;}#sk-container-id-5 div.sk-parallel {display: flex;align-items: stretch;justify-content: center;background-color: white;position: relative;}#sk-container-id-5 div.sk-item::before, #sk-container-id-5 div.sk-parallel-item::before {content: \"\";position: absolute;border-left: 1px solid gray;box-sizing: border-box;top: 0;bottom: 0;left: 50%;z-index: -1;}#sk-container-id-5 div.sk-parallel-item {display: flex;flex-direction: column;z-index: 1;position: relative;background-color: white;}#sk-container-id-5 div.sk-parallel-item:first-child::after {align-self: flex-end;width: 50%;}#sk-container-id-5 div.sk-parallel-item:last-child::after {align-self: flex-start;width: 50%;}#sk-container-id-5 div.sk-parallel-item:only-child::after {width: 0;}#sk-container-id-5 div.sk-dashed-wrapped {border: 1px dashed gray;margin: 0 0.4em 0.5em 0.4em;box-sizing: border-box;padding-bottom: 0.4em;background-color: white;}#sk-container-id-5 div.sk-label label {font-family: monospace;font-weight: bold;display: inline-block;line-height: 1.2em;}#sk-container-id-5 div.sk-label-container {text-align: center;}#sk-container-id-5 div.sk-container {/* jupyter's `normalize.less` sets `[hidden] { display: none; }` but bootstrap.min.css set `[hidden] { display: none !important; }` so we also need the `!important` here to be able to override the default hidden behavior on the sphinx rendered scikit-learn.org. See: https://github.com/scikit-learn/scikit-learn/issues/21755 */display: inline-block !important;position: relative;}#sk-container-id-5 div.sk-text-repr-fallback {display: none;}</style><div id=\"sk-container-id-5\" class=\"sk-top-container\"><div class=\"sk-text-repr-fallback\"><pre>GridSearchCV(cv=5, estimator=DecisionTreeClassifier(random_state=42), n_jobs=-1,\n",
              "             param_grid={&#x27;criterion&#x27;: [&#x27;gini&#x27;, &#x27;entropy&#x27;],\n",
              "                         &#x27;max_depth&#x27;: array([ 1,  2,  3,  4,  5,  6,  7,  8,  9, 10])},\n",
              "             scoring=&#x27;roc_auc&#x27;, verbose=10)</pre><b>In a Jupyter environment, please rerun this cell to show the HTML representation or trust the notebook. <br />On GitHub, the HTML representation is unable to render, please try loading this page with nbviewer.org.</b></div><div class=\"sk-container\" hidden><div class=\"sk-item sk-dashed-wrapped\"><div class=\"sk-label-container\"><div class=\"sk-label sk-toggleable\"><input class=\"sk-toggleable__control sk-hidden--visually\" id=\"sk-estimator-id-9\" type=\"checkbox\" ><label for=\"sk-estimator-id-9\" class=\"sk-toggleable__label sk-toggleable__label-arrow\">GridSearchCV</label><div class=\"sk-toggleable__content\"><pre>GridSearchCV(cv=5, estimator=DecisionTreeClassifier(random_state=42), n_jobs=-1,\n",
              "             param_grid={&#x27;criterion&#x27;: [&#x27;gini&#x27;, &#x27;entropy&#x27;],\n",
              "                         &#x27;max_depth&#x27;: array([ 1,  2,  3,  4,  5,  6,  7,  8,  9, 10])},\n",
              "             scoring=&#x27;roc_auc&#x27;, verbose=10)</pre></div></div></div><div class=\"sk-parallel\"><div class=\"sk-parallel-item\"><div class=\"sk-item\"><div class=\"sk-label-container\"><div class=\"sk-label sk-toggleable\"><input class=\"sk-toggleable__control sk-hidden--visually\" id=\"sk-estimator-id-10\" type=\"checkbox\" ><label for=\"sk-estimator-id-10\" class=\"sk-toggleable__label sk-toggleable__label-arrow\">estimator: DecisionTreeClassifier</label><div class=\"sk-toggleable__content\"><pre>DecisionTreeClassifier(random_state=42)</pre></div></div></div><div class=\"sk-serial\"><div class=\"sk-item\"><div class=\"sk-estimator sk-toggleable\"><input class=\"sk-toggleable__control sk-hidden--visually\" id=\"sk-estimator-id-11\" type=\"checkbox\" ><label for=\"sk-estimator-id-11\" class=\"sk-toggleable__label sk-toggleable__label-arrow\">DecisionTreeClassifier</label><div class=\"sk-toggleable__content\"><pre>DecisionTreeClassifier(random_state=42)</pre></div></div></div></div></div></div></div></div></div></div>"
            ],
            "text/plain": [
              "GridSearchCV(cv=5, estimator=DecisionTreeClassifier(random_state=42), n_jobs=-1,\n",
              "             param_grid={'criterion': ['gini', 'entropy'],\n",
              "                         'max_depth': array([ 1,  2,  3,  4,  5,  6,  7,  8,  9, 10])},\n",
              "             scoring='roc_auc', verbose=10)"
            ]
          },
          "execution_count": 32,
          "metadata": {},
          "output_type": "execute_result"
        }
      ],
      "source": [
        "grid_search_dtclf.fit(X_train, y_train)"
      ]
    },
    {
      "cell_type": "code",
      "execution_count": 33,
      "metadata": {},
      "outputs": [
        {
          "name": "stdout",
          "output_type": "stream",
          "text": [
            "Лучшие параметры модели DecisionTreeClassifier: {'criterion': 'gini', 'max_depth': 5}\n"
          ]
        }
      ],
      "source": [
        "best_params_dtclf = grid_search_dtclf.best_params_\n",
        "print('Лучшие параметры модели DecisionTreeClassifier:', best_params_dtclf)"
      ]
    },
    {
      "cell_type": "code",
      "execution_count": 34,
      "metadata": {},
      "outputs": [
        {
          "name": "stdout",
          "output_type": "stream",
          "text": [
            "метрика roc_auc DecisionTreeClassifier: 0.9083\n"
          ]
        }
      ],
      "source": [
        "criterion, max_depth = best_params_dtclf.values()\n",
        "\n",
        "dtclf_best = DecisionTreeClassifier(criterion=criterion, max_depth=max_depth, random_state=42)\n",
        "dtclf_best.fit(X_train, y_train)\n",
        "pred_dtclf_best = dtclf_best.predict_proba(X_test)[:, 1]\n",
        "\n",
        "print(f'метрика roc_auc DecisionTreeClassifier: {roc_auc_score(y_test, pred_dtclf_best).round(4)}')\n",
        "roc_auc_dtclf = {'DecisionTreeClassifier': roc_auc_score(y_test, pred_dtclf_best).round(4)}"
      ]
    },
    {
      "cell_type": "markdown",
      "metadata": {
        "id": "LJdQGP5B6UuT"
      },
      "source": [
        "Выберем лучшую модель, которая справилась с решением задачи лучше всего по метрике roc-auc?"
      ]
    },
    {
      "cell_type": "code",
      "execution_count": 35,
      "metadata": {},
      "outputs": [
        {
          "name": "stdout",
          "output_type": "stream",
          "text": [
            "лучшая метрика roc_auc на модели DecisionTreeClassifier = 0.9083\n"
          ]
        }
      ],
      "source": [
        "scores = {**roc_auc_logreg, **roc_auc_dtclf, **roc_auc_SVC,}\n",
        "print(f'лучшая метрика roc_auc на модели {max(scores, key=scores.get)} = {max(scores.values())}')"
      ]
    },
    {
      "cell_type": "markdown",
      "metadata": {
        "id": "9QqqeHyP6Y4o"
      },
      "source": [
        "Нарисуем roc-кривую для наилучшей модели."
      ]
    },
    {
      "cell_type": "code",
      "execution_count": 36,
      "metadata": {
        "id": "xzrjnbQB6YMA"
      },
      "outputs": [
        {
          "data": {
            "text/plain": [
              "Text(0, 0.5, 'tpr')"
            ]
          },
          "execution_count": 36,
          "metadata": {},
          "output_type": "execute_result"
        },
        {
          "data": {
            "image/png": "[encoded data removed]",
            "text/plain": [
              "<Figure size 640x480 with 1 Axes>"
            ]
          },
          "metadata": {},
          "output_type": "display_data"
        }
      ],
      "source": [
        "from sklearn.metrics import roc_curve\n",
        "from matplotlib import pyplot as plt\n",
        "\n",
        "# ваш код здесь\n",
        "\n",
        "fpr, tpr, _ = roc_curve(y_test, pred_dtclf_best)\n",
        "\n",
        "plt.title('roc-кривая для наилучшей модели (DecisionTreeClassifier)')\n",
        "plt.plot(fpr, tpr, '-')\n",
        "plt.xlabel('fpr')\n",
        "plt.ylabel('tpr')"
      ]
    },
    {
      "cell_type": "markdown",
      "metadata": {
        "id": "mKaWSPa_6vvk"
      },
      "source": [
        "Сравним между собой две лучшие модели:\n",
        "\n",
        "1. Насколько сильно отличается качество предсказания на тестовых данных?\n",
        "(Вычислим разность значений roc-auc.)\n",
        "\n",
        "2. Построим гистограммы важности признаков (для линейных моделей будем брать модуль значений весов) для каждой из этих моделей. Сравним между собой списки из трёх самых важных признаков."
      ]
    },
    {
      "cell_type": "code",
      "execution_count": 37,
      "metadata": {
        "id": "cc0q1_XL7QT0"
      },
      "outputs": [
        {
          "name": "stdout",
          "output_type": "stream",
          "text": [
            "\n",
            "Метрики roc_auc:\n"
          ]
        },
        {
          "data": {
            "text/plain": [
              "[('DecisionTreeClassifier', 0.9083),\n",
              " ('LogisticRegression', 0.8284),\n",
              " ('SVC', 0.6826)]"
            ]
          },
          "execution_count": 37,
          "metadata": {},
          "output_type": "execute_result"
        }
      ],
      "source": [
        "print('\\nМетрики roc_auc:')\n",
        "sorted(scores.items())"
      ]
    },
    {
      "cell_type": "code",
      "execution_count": 38,
      "metadata": {},
      "outputs": [
        {
          "name": "stdout",
          "output_type": "stream",
          "text": [
            "Разность лучших метрик roc_auc: 0.0799\n"
          ]
        }
      ],
      "source": [
        "print(f\"Разность лучших метрик roc_auc: {(scores['DecisionTreeClassifier']-scores['LogisticRegression']).round(4)}\")"
      ]
    },
    {
      "cell_type": "code",
      "execution_count": 39,
      "metadata": {},
      "outputs": [
        {
          "data": {
            "image/png": "[encoded data removed]",
            "text/plain": [
              "<Figure size 640x480 with 1 Axes>"
            ]
          },
          "metadata": {},
          "output_type": "display_data"
        }
      ],
      "source": [
        "features = X.columns\n",
        "importances_dtclf = dtclf_best.feature_importances_\n",
        "indices_dtclf = np.argsort(importances_dtclf)\n",
        "\n",
        "plt.title('Feature Importances DecisionTree Classifier')\n",
        "plt.barh(range(len(indices_dtclf)), importances_dtclf[indices_dtclf], color='b', align='center')\n",
        "plt.yticks(range(len(indices_dtclf)), [features[i] for i in indices_dtclf])\n",
        "plt.xlabel('Relative Importance')\n",
        "plt.show()"
      ]
    },
    {
      "cell_type": "code",
      "execution_count": 40,
      "metadata": {},
      "outputs": [
        {
          "data": {
            "image/png": "[encoded data removed]",
            "text/plain": [
              "<Figure size 640x480 with 1 Axes>"
            ]
          },
          "metadata": {},
          "output_type": "display_data"
        }
      ],
      "source": [
        "features = X.columns\n",
        "importances_logreg = abs(logreg_best.coef_[0])\n",
        "indices_logreg = np.argsort(importances_logreg)\n",
        "\n",
        "plt.title('Feature Importances Logistic Regression')\n",
        "plt.barh(range(len(indices_logreg)), importances_logreg[indices_logreg], color='g', align='center')\n",
        "plt.yticks(range(len(indices_logreg)), [features[i] for i in indices_logreg])\n",
        "plt.xlabel('Relative Importance')\n",
        "plt.show()"
      ]
    },
    {
      "cell_type": "code",
      "execution_count": 41,
      "metadata": {},
      "outputs": [
        {
          "name": "stdout",
          "output_type": "stream",
          "text": [
            "Список из трёх самых важных признаков модели Logistic Regression:\n"
          ]
        },
        {
          "data": {
            "text/plain": [
              "[('Customer service calls', 0.6646),\n",
              " ('Voice mail plan_No', 0.3386),\n",
              " ('Voice mail plan_Yes', 0.3386)]"
            ]
          },
          "execution_count": 41,
          "metadata": {},
          "output_type": "execute_result"
        }
      ],
      "source": [
        "feature_logreg = tuple(zip(X.columns, importances_logreg.round(4)))\n",
        "feature_logreg = sorted(feature_logreg, key=lambda x: x[1], reverse=True)\n",
        "print('Список из трёх самых важных признаков модели Logistic Regression:')\n",
        "feature_logreg[:3]"
      ]
    },
    {
      "cell_type": "code",
      "execution_count": 42,
      "metadata": {},
      "outputs": [
        {
          "name": "stdout",
          "output_type": "stream",
          "text": [
            "Список из трёх самых важных признаков модели DecisionTree Classifier:\n"
          ]
        },
        {
          "data": {
            "text/plain": [
              "[('Total day charge', 0.2997),\n",
              " ('Customer service calls', 0.1581),\n",
              " ('Total intl calls', 0.1229)]"
            ]
          },
          "execution_count": 42,
          "metadata": {},
          "output_type": "execute_result"
        }
      ],
      "source": [
        "feature_dtclf = tuple(zip(X.columns, importances_dtclf.round(4)))\n",
        "feature_dtclf = sorted(feature_dtclf, key=lambda x: x[1], reverse=True)\n",
        "print('Список из трёх самых важных признаков модели DecisionTree Classifier:')\n",
        "feature_dtclf[:3]"
      ]
    },
    {
      "cell_type": "markdown",
      "metadata": {},
      "source": [
        "***списки из трёх самых важных признаков двух лучших моделей не совпадают***"
      ]
    },
    {
      "cell_type": "markdown",
      "metadata": {},
      "source": [
        "***Выводы:***\n",
        "1. **Данные не сбалансированы, т.к. распределение целевой пременной равно примерно 1:6.**\n",
        "2. **После подбора гиперпараметров лучше всего решает задачу с точки зрения метрики roc-auc модель DecisionTree Classifier.**\n",
        "3. **Для работы двух наилучших моделей важны разные признаки (но есть основные, которые одинаково важны), т.к. модели используют разный подход (метод).**"
      ]
    },
    {
      "cell_type": "code",
      "execution_count": null,
      "metadata": {},
      "outputs": [],
      "source": []
    }
  ],
  "metadata": {
    "colab": {
      "collapsed_sections": [],
      "provenance": []
    },
    "kernelspec": {
      "display_name": "Python 3",
      "name": "python3"
    },
    "language_info": {
      "codemirror_mode": {
        "name": "ipython",
        "version": 3
      },
      "file_extension": ".py",
      "mimetype": "text/x-python",
      "name": "python",
      "nbconvert_exporter": "python",
      "pygments_lexer": "ipython3",
      "version": "3.9.18"
    }
  },
  "nbformat": 4,
  "nbformat_minor": 0
}
